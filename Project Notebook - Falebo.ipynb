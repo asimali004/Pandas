{
 "cells": [
  {
   "cell_type": "code",
   "execution_count": 1,
   "metadata": {},
   "outputs": [],
   "source": [
    "import pandas as pd"
   ]
  },
  {
   "cell_type": "markdown",
   "metadata": {},
   "source": [
    "# Project Description: Combine json datasets and find interesting trends\n",
    "## The details for the project are below. Feel free to ask ne any questions, and thank you for your work!"
   ]
  },
  {
   "cell_type": "code",
   "execution_count": null,
   "metadata": {},
   "outputs": [],
   "source": []
  },
  {
   "cell_type": "markdown",
   "metadata": {},
   "source": [
    "### 1. Import and combine user json and appointments json on user column using pandas. Find the number of appointments for each user, and add this as a column to the df"
   ]
  },
  {
   "cell_type": "code",
   "execution_count": null,
   "metadata": {},
   "outputs": [],
   "source": []
  },
  {
   "cell_type": "markdown",
   "metadata": {},
   "source": [
    "### 2. find descriptive statistics (the mean, median, mode for each column like age, gender, appointments.doctor, symptoms.strength) for each symptom (by symptom.name)\n",
    "Flatten the data first if it helps to find this."
   ]
  },
  {
   "cell_type": "code",
   "execution_count": null,
   "metadata": {},
   "outputs": [],
   "source": []
  },
  {
   "cell_type": "markdown",
   "metadata": {},
   "source": [
    "### 3. for each user, see if there is a \"significant relationship\" (>10% difference) between:\n",
    "#### a) the user's strength for each symptom (symptoms.strength) compared to other users who have appointments with the same doctor (but ONLY include users in this comparison if the doctor is listed more than once in that user's appointments)\n",
    "\n",
    "#### b) for each constant, if constant date is >1 year old AND any of the symptoms for the user are listed more than once before the constant date AND more than once after the constant date, then see if there is a \"significant relationship\" (>10% difference) between that symptom's strength for the time period before constant date, and the symptom's strength in the time period after the constant date.\n",
    "\n",
    "Store the values that you get for a) and b) in an object for each user."
   ]
  },
  {
   "cell_type": "code",
   "execution_count": null,
   "metadata": {},
   "outputs": [],
   "source": []
  },
  {
   "cell_type": "markdown",
   "metadata": {},
   "source": [
    "### 4. Find the 10% of users whose symptom.strength is lowest, and identify what is different about them compared to the other 90 percent (ex: do they have lower age? more activities? likely to have one specific doctor?) \n",
    "Save what you found as variable or print it\n"
   ]
  },
  {
   "cell_type": "code",
   "execution_count": null,
   "metadata": {},
   "outputs": [],
   "source": []
  },
  {
   "cell_type": "markdown",
   "metadata": {},
   "source": [
    "### 5. Do a time series analysis for users that have >3 cases of a specific symptom (by symptom.name). Find out if there is an **uptrend, downtrend, or cyclical trend** between symptom.strength and activity.after score. \n",
    "\n",
    "#### Find a way to link the date stamps for symptom and activity to each other if they are not exactly the same, so that you can compare them (for example, combine closest datetimes or maybe average them into a standard time frame)"
   ]
  },
  {
   "cell_type": "code",
   "execution_count": null,
   "metadata": {},
   "outputs": [],
   "source": []
  },
  {
   "cell_type": "markdown",
   "metadata": {},
   "source": [
    "### 6. Answer this question: How would you find users that are similar to each other based on the data attributes they have?\n",
    "#### (You do not need to do this in code, just write how you would want to do it)"
   ]
  },
  {
   "cell_type": "code",
   "execution_count": null,
   "metadata": {},
   "outputs": [],
   "source": []
  }
 ],
 "metadata": {
  "kernelspec": {
   "display_name": "Python 3",
   "language": "python",
   "name": "python3"
  },
  "language_info": {
   "codemirror_mode": {
    "name": "ipython",
    "version": 3
   },
   "file_extension": ".py",
   "mimetype": "text/x-python",
   "name": "python",
   "nbconvert_exporter": "python",
   "pygments_lexer": "ipython3",
   "version": "3.7.3"
  }
 },
 "nbformat": 4,
 "nbformat_minor": 4
}
