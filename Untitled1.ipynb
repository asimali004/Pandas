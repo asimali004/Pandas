{
 "cells": [
  {
   "cell_type": "code",
   "execution_count": null,
   "metadata": {},
   "outputs": [],
   "source": [
    "import pandas as pd"
   ]
  },
  {
   "cell_type": "code",
   "execution_count": null,
   "metadata": {},
   "outputs": [],
   "source": [
    "df1=pd.read_csv(\"small.csv\")"
   ]
  },
  {
   "cell_type": "code",
   "execution_count": null,
   "metadata": {},
   "outputs": [],
   "source": [
    "df1.info()"
   ]
  },
  {
   "cell_type": "code",
   "execution_count": null,
   "metadata": {},
   "outputs": [],
   "source": [
    "df1.head()"
   ]
  },
  {
   "cell_type": "code",
   "execution_count": null,
   "metadata": {},
   "outputs": [],
   "source": [
    "event_log=df1.iloc[:,0:3]"
   ]
  },
  {
   "cell_type": "code",
   "execution_count": null,
   "metadata": {},
   "outputs": [],
   "source": [
    "event_log.head()"
   ]
  },
  {
   "cell_type": "code",
   "execution_count": null,
   "metadata": {},
   "outputs": [],
   "source": [
    "event_number=event_log.groupby(\"Case ID\")"
   ]
  },
  {
   "cell_type": "code",
   "execution_count": null,
   "metadata": {},
   "outputs": [],
   "source": [
    "event_numbers=event_number.count()"
   ]
  },
  {
   "cell_type": "code",
   "execution_count": null,
   "metadata": {},
   "outputs": [],
   "source": [
    "event_numbers.sort_values(by=\"Activity\",ascending=False)"
   ]
  },
  {
   "cell_type": "code",
   "execution_count": null,
   "metadata": {},
   "outputs": [],
   "source": [
    "event_log=event_log.iloc[:,0:2]\n",
    "a={}\n",
    "id=event_log[\"Case ID\"]\n",
    "for m in id:\n",
    "    a[m]=event_log[event_log[\"Case ID\"]==m]"
   ]
  },
  {
   "cell_type": "code",
   "execution_count": null,
   "metadata": {},
   "outputs": [],
   "source": [
    "duration=[]\n",
    "for f in a:\n",
    "    for b in f:\n",
    "        duration.append(f[len(f)-f[0]])"
   ]
  },
  {
   "cell_type": "code",
   "execution_count": null,
   "metadata": {},
   "outputs": [],
   "source": [
    "duration.sort_values(asecnding=False)"
   ]
  },
  {
   "cell_type": "code",
   "execution_count": null,
   "metadata": {},
   "outputs": [],
   "source": [
    "df1=pd.read_csv(\"hospital_billing.csv\")\n",
    "df1.info()\n",
    "df1.head()\n",
    "event_log=df1.iloc[:,0:3]\n",
    "event_log.head()\n",
    "event_number=event_log.groupby(\"Case ID\")\n",
    "event_numbers=event_number.count()\n",
    "event_numbers.sort_values(by=\"Activity\",ascending=False)\n",
    "event_log=event_log.iloc[:,0:2]\n",
    "a={}\n",
    "id=event_log[\"Case ID\"]\n",
    "for m in id:\n",
    "    a[m]=event_log[event_log[\"Case ID\"]==m]\n",
    "duration=[]\n",
    "for f in a:\n",
    "    for b in f:\n",
    "        duration.append(f[len(f)-f[0]])\n",
    "duration.sort_values(asecnding=False)"
   ]
  }
 ],
 "metadata": {
  "kernelspec": {
   "display_name": "Python 3",
   "language": "python",
   "name": "python3"
  },
  "language_info": {
   "codemirror_mode": {
    "name": "ipython",
    "version": 3
   },
   "file_extension": ".py",
   "mimetype": "text/x-python",
   "name": "python",
   "nbconvert_exporter": "python",
   "pygments_lexer": "ipython3",
   "version": "3.7.3"
  }
 },
 "nbformat": 4,
 "nbformat_minor": 2
}
