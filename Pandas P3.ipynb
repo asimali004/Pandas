{
 "cells": [
  {
   "cell_type": "code",
   "execution_count": 1,
   "metadata": {},
   "outputs": [],
   "source": [
    "import pandas as pd"
   ]
  },
  {
   "cell_type": "code",
   "execution_count": 2,
   "metadata": {},
   "outputs": [],
   "source": [
    "df1=pd.read_csv(\"public-covid-19-cases-canada.csv\")"
   ]
  },
  {
   "cell_type": "code",
   "execution_count": 3,
   "metadata": {},
   "outputs": [
    {
     "name": "stdout",
     "output_type": "stream",
     "text": [
      "<class 'pandas.core.frame.DataFrame'>\n",
      "RangeIndex: 50982 entries, 0 to 50981\n",
      "Data columns (total 12 columns):\n",
      "case_id               0 non-null float64\n",
      "provincial_case_id    50982 non-null int64\n",
      "age                   50982 non-null object\n",
      "sex                   50982 non-null object\n",
      "health_region         50982 non-null object\n",
      "province              50982 non-null object\n",
      "country               50982 non-null object\n",
      "date_report           50982 non-null object\n",
      "report_week           50982 non-null object\n",
      "has_travel_history    1150 non-null object\n",
      "locally_acquired      574 non-null object\n",
      "case_source           50982 non-null object\n",
      "dtypes: float64(1), int64(1), object(10)\n",
      "memory usage: 4.7+ MB\n"
     ]
    }
   ],
   "source": [
    "df1.info()"
   ]
  },
  {
   "cell_type": "code",
   "execution_count": 6,
   "metadata": {},
   "outputs": [
    {
     "data": {
      "text/plain": [
       "Not Reported    49521\n",
       "50-59             288\n",
       "60-69             255\n",
       "30-39             217\n",
       "40-49             213\n",
       "20-29             196\n",
       "70-79             135\n",
       "80-89              63\n",
       "90-99              37\n",
       "<20                24\n",
       "10-19              12\n",
       "<10                11\n",
       "<18                 6\n",
       "61                  1\n",
       "50                  1\n",
       "2                   1\n",
       "<1                  1\n",
       "Name: age, dtype: int64"
      ]
     },
     "execution_count": 6,
     "metadata": {},
     "output_type": "execute_result"
    }
   ],
   "source": [
    "df1[\"age\"].value_counts()"
   ]
  },
  {
   "cell_type": "code",
   "execution_count": 7,
   "metadata": {},
   "outputs": [
    {
     "data": {
      "text/plain": [
       "Not Reported    49658\n",
       "Female            686\n",
       "Male              638\n",
       "Name: sex, dtype: int64"
      ]
     },
     "execution_count": 7,
     "metadata": {},
     "output_type": "execute_result"
    }
   ],
   "source": [
    "df1[\"sex\"].value_counts()"
   ]
  },
  {
   "cell_type": "code",
   "execution_count": 8,
   "metadata": {},
   "outputs": [
    {
     "data": {
      "text/plain": [
       "Montréal                         12487\n",
       "Toronto                           5128\n",
       "Calgary                           3366\n",
       "Montérégie                        2973\n",
       "Laval                             2919\n",
       "Peel                              2358\n",
       "Lanaudière                        1983\n",
       "York                              1458\n",
       "Ottawa                            1221\n",
       "Laurentides                       1183\n",
       "Mauricie                          1176\n",
       "Durham                             923\n",
       "Fraser                             918\n",
       "Estrie                             826\n",
       "Vancouver Coastal                  803\n",
       "Capitale-Nationale                 789\n",
       "Waterloo                           709\n",
       "South                              700\n",
       "Not Reported                       589\n",
       "Windsor-Essex                      581\n",
       "Edmonton                           486\n",
       "Niagara                            472\n",
       "Halton                             443\n",
       "Hamilton                           421\n",
       "Middlesex-London                   384\n",
       "Chaudière-Appalaches               382\n",
       "Zone 4 - Central                   343\n",
       "Eastern                            331\n",
       "Leeds Grenville and Lanark         300\n",
       "Saguenay                           273\n",
       "                                 ...  \n",
       "Zone 3 (Fredericton area)           48\n",
       "Far North                           46\n",
       "Huron Perth                         44\n",
       "Hastings Prince Edward              39\n",
       "Bas-Saint-Laurent                   34\n",
       "Southern Health                     31\n",
       "Prince Edward Island                27\n",
       "Zone 2 (Saint John area)            26\n",
       "Zone 1 (Moncton area)               22\n",
       "Interlake-Eastern                   19\n",
       "Nunavik                             16\n",
       "Northwestern                        16\n",
       "Renfrew                             15\n",
       "Prairie Mountain                    14\n",
       "North Bay Parry Sound               14\n",
       "Algoma                              13\n",
       "Zone 5 (Campbellton area)           12\n",
       "Timiskaming                         12\n",
       "Zone 3 - Eastern                    12\n",
       "Yukon                               11\n",
       "Zone 1 - Western                    10\n",
       "Terres-Cries-de-la-Baie-James        8\n",
       "Nord-du-Québec                       7\n",
       "Zone 4 (Edmundston area)             7\n",
       "Labrador-Grenfell                    6\n",
       "NWT                                  5\n",
       "Western                              4\n",
       "Zone 2 - Northern                    4\n",
       "Zone 7 (Miramichi area)              2\n",
       "Zone 6 (Bathurst area)               1\n",
       "Name: health_region, Length: 86, dtype: int64"
      ]
     },
     "execution_count": 8,
     "metadata": {},
     "output_type": "execute_result"
    }
   ],
   "source": [
    "df1[\"health_region\"].value_counts()"
   ]
  },
  {
   "cell_type": "code",
   "execution_count": 9,
   "metadata": {},
   "outputs": [
    {
     "data": {
      "text/plain": [
       "Quebec           25757\n",
       "Ontario          16337\n",
       "Alberta           4850\n",
       "BC                2053\n",
       "Nova Scotia        915\n",
       "Saskatchewan       366\n",
       "Manitoba           272\n",
       "NL                 258\n",
       "New Brunswick      118\n",
       "PEI                 27\n",
       "Repatriated         13\n",
       "Yukon               11\n",
       "NWT                  5\n",
       "Name: province, dtype: int64"
      ]
     },
     "execution_count": 9,
     "metadata": {},
     "output_type": "execute_result"
    }
   ],
   "source": [
    "df1[\"province\"].value_counts()"
   ]
  },
  {
   "cell_type": "code",
   "execution_count": 10,
   "metadata": {},
   "outputs": [
    {
     "data": {
      "text/plain": [
       "Canada    50982\n",
       "Name: country, dtype: int64"
      ]
     },
     "execution_count": 10,
     "metadata": {},
     "output_type": "execute_result"
    }
   ],
   "source": [
    "df1[\"country\"].value_counts()"
   ]
  },
  {
   "cell_type": "code",
   "execution_count": 11,
   "metadata": {},
   "outputs": [
    {
     "data": {
      "text/plain": [
       "2020-04-22    1970\n",
       "2020-04-17    1883\n",
       "2020-04-23    1863\n",
       "2020-04-20    1843\n",
       "2020-04-16    1732\n",
       "2020-04-19    1635\n",
       "2020-04-27    1635\n",
       "2020-04-24    1624\n",
       "2020-04-01    1599\n",
       "2020-04-26    1598\n",
       "2020-04-02    1588\n",
       "2020-04-09    1550\n",
       "2020-04-21    1531\n",
       "2020-04-18    1531\n",
       "2020-04-05    1506\n",
       "2020-04-28    1483\n",
       "2020-04-14    1460\n",
       "2020-04-04    1429\n",
       "2020-04-25    1420\n",
       "2020-04-07    1397\n",
       "2020-04-13    1368\n",
       "2020-04-15    1346\n",
       "2020-04-10    1312\n",
       "2020-04-08    1291\n",
       "2020-04-06    1250\n",
       "2020-04-11    1247\n",
       "2020-04-03    1202\n",
       "2020-03-31    1143\n",
       "2020-03-30    1128\n",
       "2020-04-12    1098\n",
       "              ... \n",
       "2020-03-18     130\n",
       "2020-03-16     100\n",
       "2020-03-15      84\n",
       "2020-03-14      59\n",
       "2020-03-13      42\n",
       "2020-03-12      40\n",
       "2020-03-11      21\n",
       "2020-03-09      19\n",
       "2020-03-05      12\n",
       "2020-03-10       9\n",
       "2020-03-03       9\n",
       "2020-03-06       8\n",
       "2020-03-08       7\n",
       "2020-03-07       6\n",
       "2020-02-29       4\n",
       "2020-03-01       4\n",
       "2020-02-28       2\n",
       "2020-02-06       2\n",
       "2020-02-27       2\n",
       "2020-03-04       1\n",
       "2020-02-04       1\n",
       "2020-01-28       1\n",
       "2020-02-23       1\n",
       "2020-02-26       1\n",
       "2020-02-14       1\n",
       "2020-01-27       1\n",
       "2020-02-24       1\n",
       "2020-02-20       1\n",
       "2020-01-25       1\n",
       "2020-01-31       1\n",
       "Name: date_report, Length: 72, dtype: int64"
      ]
     },
     "execution_count": 11,
     "metadata": {},
     "output_type": "execute_result"
    }
   ],
   "source": [
    "df1[\"date_report\"].value_counts()"
   ]
  },
  {
   "cell_type": "code",
   "execution_count": 12,
   "metadata": {},
   "outputs": [
    {
     "data": {
      "text/plain": [
       "https://www.quebec.ca/sante/problemes-de-sante/a-z/coronavirus-2019/situation-coronavirus-quebec/                                                                                                                                                                                                                                                                                                                                                                                                           12191\n",
       "https://www.quebec.ca/en/health/health-issues/a-z/2019-coronavirus/situation-coronavirus-in-quebec/                                                                                                                                                                                                                                                                                                                                                                                                         10853\n",
       "https://www.alberta.ca/covid-19-alberta-data.aspx                                                                                                                                                                                                                                                                                                                                                                                                                                                            4425\n",
       "https://www.toronto.ca/home/covid-19/media-room/covid-19-status-of-cases-in-toronto/                                                                                                                                                                                                                                                                                                                                                                                                                         2496\n",
       "https://www.toronto.ca/home/covid-19/covid-19-latest-city-of-toronto-news/covid-19-status-of-cases-in-toronto/                                                                                                                                                                                                                                                                                                                                                                                               1978\n",
       "https://www.ontario.ca/page/2019-novel-coronavirus#section-0                                                                                                                                                                                                                                                                                                                                                                                                                                                 1873\n",
       "https://www.quebec.ca/sante/problemes-de-sante/a-z/coronavirus-2019/situation-coronavirus-quebec/#c47900                                                                                                                                                                                                                                                                                                                                                                                                     1622\n",
       "https://www.ottawapublichealth.ca/en/reports-research-and-statistics/la-maladie-coronavirus-covid-19.aspx#Ottawa-COVID-19-Case-Details-                                                                                                                                                                                                                                                                                                                                                                      1078\n",
       "https://www.peelregion.ca/coronavirus/testing/#cases                                                                                                                                                                                                                                                                                                                                                                                                                                                          975\n",
       "http://www.bccdc.ca/health-info/diseases-conditions/covid-19/case-counts-press-statements                                                                                                                                                                                                                                                                                                                                                                                                                     833\n",
       "http://www.peelregion.ca/coronavirus/testing/#cases                                                                                                                                                                                                                                                                                                                                                                                                                                                           614\n",
       "https://www.quebec.ca/sante/problemes-de-sante/a-z/coronavirus-2019/situation-coronavirus-quebec                                                                                                                                                                                                                                                                                                                                                                                                              590\n",
       "https://www.wechu.org/cv/local-updates                                                                                                                                                                                                                                                                                                                                                                                                                                                                        537\n",
       "https://app.powerbi.com/view?r=eyJrIjoiNDZkYzgzN2YtNGM2Yi00ZTQ0LTkzOTUtY2IwOTlhNzlmMWE2IiwidCI6IjUyZDdjOWMyLWQ1NDktNDFiNi05YjFmLTlkYTE5OGRjM2YxNiJ9                                                                                                                                                                                                                                                                                                                                                           527\n",
       "https://www.regionofwaterloo.ca/en/health-and-wellness/positive-cases-in-waterloo-region.aspx                                                                                                                                                                                                                                                                                                                                                                                                                 524\n",
       "https://www.peelregion.ca/coronavirus/case-status/                                                                                                                                                                                                                                                                                                                                                                                                                                                            493\n",
       "https://www.halton.ca/For-Residents/Immunizations-Preventable-Disease/Diseases-Infections/New-Coronavirus                                                                                                                                                                                                                                                                                                                                                                                                     396\n",
       "https://www.healthunit.com/novel-coronavirus                                                                                                                                                                                                                                                                                                                                                                                                                                                                  334\n",
       "https://novascotia.ca/coronavirus/data/                                                                                                                                                                                                                                                                                                                                                                                                                                                                       312\n",
       "https://www.niagararegion.ca/health/covid-19/statistics.aspx                                                                                                                                                                                                                                                                                                                                                                                                                                                  310\n",
       "https://www.hamilton.ca/coronavirus/status-cases                                                                                                                                                                                                                                                                                                                                                                                                                                                              302\n",
       "https://www.saskatchewan.ca/government/health-care-administration-and-provider-resources/treatment-procedures-and-guidelines/emerging-public-health-issues/2019-novel-coronavirus/cases-and-risk-of-covid-19-in-saskatchewan                                                                                                                                                                                                                                                                                  301\n",
       "https://healthunit.org/coronavirus/                                                                                                                                                                                                                                                                                                                                                                                                                                                                           285\n",
       "https://wdgpublichealth.ca/your-health/covid-19-information-public/status-cases-wdg                                                                                                                                                                                                                                                                                                                                                                                                                           235\n",
       "https://www.york.ca/wps/portal/yorkhome/health/yr/infectiousdiseasesandprevention/covid19/covid19/!ut/p/z1/jZDfT4MwEMf_Fh94lB6Mjc63ijrKtmBi3LAvpoMOMKwlLYPEv95Ol5glit7D5e7yuR_fQwxliEne1yXvaiV5Y_MXNnulZEHjeAlJGuAICKQk8UMM93MPbT8B-MUIIPaf_hGAjY9P_lpgFfh6Ha1LxFreVde13CuUWS9yq_FoitoIboThsmi16IU8KUdZrvq68ObfwRaxy1WLJxwA3SQh2XgpBHRyBnw_mMVeBAnEKQb6ED5O73DswdI_A-Nqykbtvh5P5G6C7dla7IUW2j1qW666rjU3DjgwDINbKlU2ws3VwYGfWiplOpRdkqg9PGfvq9s5fZs2_YpcfQDml0gV/dz/d5/L2dBISEvZ0FBIS9nQSEh/#.XoVwsahKjid      225\n",
       "https://covid19stats.alberta.ca/                                                                                                                                                                                                                                                                                                                                                                                                                                                                              222\n",
       "https://www.york.ca/wps/portal/yorkhome/health/yr/infectiousdiseasesandprevention/covid19/covid19/!ut/p/z1/jZDfT4MwEMf_Fh94lB6Mjc63ijrKtmBi3LAvpoMOMKwlLYPEv95Ol5glit7D5e7yuR_fQwxliEne1yXvaiV5Y_MXNnulZEHjeAlJGuAICKQk8UMM93MPbT8B-MUIIPaf_hGAjY9P_lpgFfh6Ha1LxFreVde13CuUWS9yq_FoitoIboThsmi16IU8KUdZrvq68ObfwRaxy1WLJxwA3SQh2XgpBHRyBnw_mMVeBAnEKQb6ED5O73DswdI_A-Nqykbtvh5P5G6C7dla7IUW2j1qW666rjU3DjgwDINbKlU2ws3VwYGfWiplOpRdkqg9PGfvq9s5fZs2_YpcfQDml0gV/dz/d5/L2dBISEvZ0FBIS9nQSEh/#.XnuxqNNKiu4      205\n",
       "https://www.durham.ca/en/health-and-wellness/novel-coronavirus-update.aspx#Status-of-cases-in-Durham-Region                                                                                                                                                                                                                                                                                                                                                                                                   197\n",
       "http://www.simcoemuskokahealthstats.org/topics/infectious-diseases/a-h/covid-19                                                                                                                                                                                                                                                                                                                                                                                                                               196\n",
       "https://lambtonpublichealth.ca/2019-novel-coronavirus/                                                                                                                                                                                                                                                                                                                                                                                                                                                        170\n",
       "                                                                                                                                                                                                                                                                                                                                                                                                                                                                                                            ...  \n",
       "https://www.quebec.ca/sante/problemes-de-sante/a-z/coronavirus-2019/situation-coronavirus-quebec/#c47964                                                                                                                                                                                                                                                                                                                                                                                                        1\n",
       "https://www.quebec.ca/sante/problemes-de-sante/a-z/coronavirus-2019/situation-coronavirus-quebec/#c47982                                                                                                                                                                                                                                                                                                                                                                                                        1\n",
       "https://www.quebec.ca/sante/problemes-de-sante/a-z/coronavirus-2019/situation-coronavirus-quebec/#c48069                                                                                                                                                                                                                                                                                                                                                                                                        1\n",
       "https://www.quebec.ca/sante/problemes-de-sante/a-z/coronavirus-2019/situation-coronavirus-quebec/#c48233                                                                                                                                                                                                                                                                                                                                                                                                        1\n",
       "https://www.york.ca/wps/portal/yorkhome/!ut/p/z1/04_Sj9CPykssy0xPLMnMz0vMAfIjo8zijYxMzDwMnQ28DDz8LQw83cwDTF0sPAwNvI30wwkpiAJKG-AAjgZA_VGElBTkRhikOyoqAgC__eMj/dz/d5/L2dBISEvZ0FBIS9nQSEh/#.XokZO9NKiu19                                                                                                                                                                                                                                                                                                         1\n",
       "https://news.ontario.ca/mohltc/en/2020/03/ontario-confirms-new-positive-cases-of-covid-19-6.html                                                                                                                                                                                                                                                                                                                                                                                                                1\n",
       "https://www.quebec.ca/sante/problemes-de-sante/a-z/coronavirus-2019/situation-coronavirus-quebec/#c48120                                                                                                                                                                                                                                                                                                                                                                                                        1\n",
       "https://www.york.ca/wps/portal/yorkhome/!ut/p/z1/04_Sj9CPykssy0xPLMnMz0vMAfIjo8zijYxMzDwMnQ28DDz8LQw83cwDTF0sPAwNvI30wwkpiAJKG-AAjgZA_VGElBTkRhikOyoqAgC__eMj/dz/d5/L2dBISEvZ0FBIS9nQSEh/#.XokZO9NKiu18                                                                                                                                                                                                                                                                                                         1\n",
       "http://www.simcoemuskokahealthstats.org/topics/infectious-diseases/a-h/covid-28                                                                                                                                                                                                                                                                                                                                                                                                                                 1\n",
       "https://yukon.ca/en/news/april-8-2020-yukons-chief-medical-officer-health-provides-update-covid-19                                                                                                                                                                                                                                                                                                                                                                                                              1\n",
       "https://www.quebec.ca/sante/problemes-de-sante/a-z/coronavirus-2019/situation-coronavirus-quebec/#c47901                                                                                                                                                                                                                                                                                                                                                                                                        1\n",
       "https://www.quebec.ca/sante/problemes-de-sante/a-z/coronavirus-2019/situation-coronavirus-quebec/#c48008                                                                                                                                                                                                                                                                                                                                                                                                        1\n",
       "https://www.ontario.ca/page/2019-novel-coronavirus#section-0; https://www.nationalobserver.com/2020/03/17/news/unconfirmed-covid-19-death-reported-ontarios-muskoka                                                                                                                                                                                                                                                                                                                                             1\n",
       "https://www.quebec.ca/sante/problemes-de-sante/a-z/coronavirus-2019/situation-coronavirus-quebec/#c47928                                                                                                                                                                                                                                                                                                                                                                                                        1\n",
       "https://atlantic.ctvnews.ca/new-brunswick-reports-eight-new-cases-of-covid-19-tightens-border-restrictions-1.4867847                                                                                                                                                                                                                                                                                                                                                                                            1\n",
       "https://www.quebec.ca/sante/problemes-de-sante/a-z/coronavirus-2019/situation-coronavirus-quebec/#c48297                                                                                                                                                                                                                                                                                                                                                                                                        1\n",
       "https://www.quebec.ca/sante/problemes-de-sante/a-z/coronavirus-2019/situation-coronavirus-quebec/#c48111                                                                                                                                                                                                                                                                                                                                                                                                        1\n",
       "https://www.quebec.ca/sante/problemes-de-sante/a-z/coronavirus-2019/situation-coronavirus-quebec/#c48260                                                                                                                                                                                                                                                                                                                                                                                                        1\n",
       "https://www.quebec.ca/sante/problemes-de-sante/a-z/coronavirus-2019/situation-coronavirus-quebec/#c47979                                                                                                                                                                                                                                                                                                                                                                                                        1\n",
       "https://www.quebec.ca/sante/problemes-de-sante/a-z/coronavirus-2019/situation-coronavirus-quebec/#c48214                                                                                                                                                                                                                                                                                                                                                                                                        1\n",
       "https://www.quebec.ca/sante/problemes-de-sante/a-z/coronavirus-2019/situation-coronavirus-quebec/#c48034                                                                                                                                                                                                                                                                                                                                                                                                        1\n",
       "https://www2.gnb.ca/content/gnb/en/corporate/promo/covid-19/maps_graphs.html                                                                                                                                                                                                                                                                                                                                                                                                                                    1\n",
       "(1) https://news.gov.bc.ca/releases/2020HLTH0041-000304 ;(2) https://www.richmond-news.com/news/coronavirus-latest-8th-case-confirmed-in-b-c-in-vancouver-coastal-health-region-1.24087401                                                                                                                                                                                                                                                                                                                      1\n",
       "(1) https://news.ontario.ca/mohltc/en/2020/01/ontario-confirms-third-case-of-2019-novel-coronavirus.html ;(2) https://globalnews.ca/news/6497313/coronavirus-timeine-cases-canada/                                                                                                                                                                                                                                                                                                                              1\n",
       "https://news.gov.bc.ca/releases/2020HLTH0056-000365                                                                                                                                                                                                                                                                                                                                                                                                                                                             1\n",
       "https://www.quebec.ca/sante/problemes-de-sante/a-z/coronavirus-2019/situation-coronavirus-quebec/#c48223                                                                                                                                                                                                                                                                                                                                                                                                        1\n",
       "https://www.quebec.ca/sante/problemes-de-sante/a-z/coronavirus-2019/situation-coronavirus-quebec/#c48102                                                                                                                                                                                                                                                                                                                                                                                                        1\n",
       "https://www.york.ca/wps/portal/yorkhome/!ut/p/z1/04_Sj9CPykssy0xPLMnMz0vMAfIjo8zijYxMzDwMnQ28DDz8LQw83cwDTF0sPAwNvI30wwkpiAJKG-AAjgZA_VGElBTkRhikOyoqAgC__eMj/dz/d5/L2dBISEvZ0FBIS9nQSEh/#.XokZO9NKiu27                                                                                                                                                                                                                                                                                                         1\n",
       "https://www.quebec.ca/sante/problemes-de-sante/a-z/coronavirus-2019/situation-coronavirus-quebec/#c48270                                                                                                                                                                                                                                                                                                                                                                                                        1\n",
       "https://www.quebec.ca/sante/problemes-de-sante/a-z/coronavirus-2019/situation-coronavirus-quebec/#c47925                                                                                                                                                                                                                                                                                                                                                                                                        1\n",
       "Name: case_source, Length: 941, dtype: int64"
      ]
     },
     "execution_count": 12,
     "metadata": {},
     "output_type": "execute_result"
    }
   ],
   "source": [
    "df1[\"case_source\"].value_counts()"
   ]
  },
  {
   "cell_type": "code",
   "execution_count": 16,
   "metadata": {},
   "outputs": [
    {
     "data": {
      "text/plain": [
       "<pandas.core.groupby.generic.DataFrameGroupBy object at 0x00000000085C5D68>"
      ]
     },
     "execution_count": 16,
     "metadata": {},
     "output_type": "execute_result"
    }
   ],
   "source": [
    "g=df1.groupby(\"sex\")\n",
    "g"
   ]
  },
  {
   "cell_type": "code",
   "execution_count": null,
   "metadata": {},
   "outputs": [],
   "source": []
  },
  {
   "cell_type": "code",
   "execution_count": null,
   "metadata": {},
   "outputs": [],
   "source": []
  }
 ],
 "metadata": {
  "kernelspec": {
   "display_name": "Python 3",
   "language": "python",
   "name": "python3"
  },
  "language_info": {
   "codemirror_mode": {
    "name": "ipython",
    "version": 3
   },
   "file_extension": ".py",
   "mimetype": "text/x-python",
   "name": "python",
   "nbconvert_exporter": "python",
   "pygments_lexer": "ipython3",
   "version": "3.7.3"
  }
 },
 "nbformat": 4,
 "nbformat_minor": 2
}
