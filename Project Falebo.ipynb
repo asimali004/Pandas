{
 "cells": [
  {
   "cell_type": "code",
   "execution_count": 1,
   "metadata": {},
   "outputs": [],
   "source": [
    "import numpy as np"
   ]
  },
  {
   "cell_type": "code",
   "execution_count": 2,
   "metadata": {},
   "outputs": [],
   "source": [
    "import pandas as pd"
   ]
  },
  {
   "cell_type": "code",
   "execution_count": 3,
   "metadata": {},
   "outputs": [],
   "source": [
    "df1=pd.read_csv(\"appointments.csv\")"
   ]
  },
  {
   "cell_type": "code",
   "execution_count": 4,
   "metadata": {},
   "outputs": [
    {
     "name": "stdout",
     "output_type": "stream",
     "text": [
      "<class 'pandas.core.frame.DataFrame'>\n",
      "RangeIndex: 939 entries, 0 to 938\n",
      "Data columns (total 3 columns):\n",
      "Unnamed: 0      939 non-null int64\n",
      "appointments    939 non-null object\n",
      "user            939 non-null int64\n",
      "dtypes: int64(2), object(1)\n",
      "memory usage: 22.1+ KB\n"
     ]
    }
   ],
   "source": [
    "df1.info()"
   ]
  },
  {
   "cell_type": "code",
   "execution_count": 5,
   "metadata": {},
   "outputs": [],
   "source": [
    "df2=pd.read_csv(\"user.csv\")"
   ]
  },
  {
   "cell_type": "code",
   "execution_count": 6,
   "metadata": {},
   "outputs": [
    {
     "name": "stdout",
     "output_type": "stream",
     "text": [
      "<class 'pandas.core.frame.DataFrame'>\n",
      "RangeIndex: 999 entries, 0 to 998\n",
      "Data columns (total 7 columns):\n",
      "Unnamed: 0    999 non-null int64\n",
      "symptoms      999 non-null object\n",
      "activities    999 non-null object\n",
      "constants     999 non-null object\n",
      "user          999 non-null int64\n",
      "age           999 non-null int64\n",
      "gender        999 non-null object\n",
      "dtypes: int64(3), object(4)\n",
      "memory usage: 54.7+ KB\n"
     ]
    }
   ],
   "source": [
    "df2.info()"
   ]
  },
  {
   "cell_type": "code",
   "execution_count": 7,
   "metadata": {},
   "outputs": [
    {
     "data": {
      "text/html": [
       "<div>\n",
       "<style scoped>\n",
       "    .dataframe tbody tr th:only-of-type {\n",
       "        vertical-align: middle;\n",
       "    }\n",
       "\n",
       "    .dataframe tbody tr th {\n",
       "        vertical-align: top;\n",
       "    }\n",
       "\n",
       "    .dataframe thead th {\n",
       "        text-align: right;\n",
       "    }\n",
       "</style>\n",
       "<table border=\"1\" class=\"dataframe\">\n",
       "  <thead>\n",
       "    <tr style=\"text-align: right;\">\n",
       "      <th></th>\n",
       "      <th>Unnamed: 0</th>\n",
       "      <th>appointments</th>\n",
       "      <th>user</th>\n",
       "    </tr>\n",
       "  </thead>\n",
       "  <tbody>\n",
       "    <tr>\n",
       "      <th>0</th>\n",
       "      <td>0</td>\n",
       "      <td>[{u'date': 1557129130, u'doctor': u'Dr. Yen'},...</td>\n",
       "      <td>1</td>\n",
       "    </tr>\n",
       "    <tr>\n",
       "      <th>1</th>\n",
       "      <td>1</td>\n",
       "      <td>[{u'date': 1542408628, u'doctor': u'Dr. Jones'...</td>\n",
       "      <td>2</td>\n",
       "    </tr>\n",
       "    <tr>\n",
       "      <th>2</th>\n",
       "      <td>2</td>\n",
       "      <td>[{u'date': 1554590672, u'doctor': u'Dr. Salkio...</td>\n",
       "      <td>3</td>\n",
       "    </tr>\n",
       "    <tr>\n",
       "      <th>3</th>\n",
       "      <td>3</td>\n",
       "      <td>[{u'date': 1551717508, u'doctor': u'Dr. Salkio...</td>\n",
       "      <td>4</td>\n",
       "    </tr>\n",
       "    <tr>\n",
       "      <th>4</th>\n",
       "      <td>4</td>\n",
       "      <td>[{u'date': 1583643001, u'doctor': u'Dr. Sarias...</td>\n",
       "      <td>5</td>\n",
       "    </tr>\n",
       "  </tbody>\n",
       "</table>\n",
       "</div>"
      ],
      "text/plain": [
       "   Unnamed: 0                                       appointments  user\n",
       "0           0  [{u'date': 1557129130, u'doctor': u'Dr. Yen'},...     1\n",
       "1           1  [{u'date': 1542408628, u'doctor': u'Dr. Jones'...     2\n",
       "2           2  [{u'date': 1554590672, u'doctor': u'Dr. Salkio...     3\n",
       "3           3  [{u'date': 1551717508, u'doctor': u'Dr. Salkio...     4\n",
       "4           4  [{u'date': 1583643001, u'doctor': u'Dr. Sarias...     5"
      ]
     },
     "execution_count": 7,
     "metadata": {},
     "output_type": "execute_result"
    }
   ],
   "source": [
    "df1[\"user\"]=[a for a in range(1,len(df1)+1)]\n",
    "df1.head()"
   ]
  },
  {
   "cell_type": "code",
   "execution_count": 8,
   "metadata": {},
   "outputs": [
    {
     "data": {
      "text/html": [
       "<div>\n",
       "<style scoped>\n",
       "    .dataframe tbody tr th:only-of-type {\n",
       "        vertical-align: middle;\n",
       "    }\n",
       "\n",
       "    .dataframe tbody tr th {\n",
       "        vertical-align: top;\n",
       "    }\n",
       "\n",
       "    .dataframe thead th {\n",
       "        text-align: right;\n",
       "    }\n",
       "</style>\n",
       "<table border=\"1\" class=\"dataframe\">\n",
       "  <thead>\n",
       "    <tr style=\"text-align: right;\">\n",
       "      <th></th>\n",
       "      <th>Unnamed: 0</th>\n",
       "      <th>symptoms</th>\n",
       "      <th>activities</th>\n",
       "      <th>constants</th>\n",
       "      <th>user</th>\n",
       "      <th>age</th>\n",
       "      <th>gender</th>\n",
       "    </tr>\n",
       "  </thead>\n",
       "  <tbody>\n",
       "    <tr>\n",
       "      <th>0</th>\n",
       "      <td>0</td>\n",
       "      <td>[{'name': 'backache', 'date': 1530680440, 'str...</td>\n",
       "      <td>[{'activity': 'fishing', 'date': 1582084266, '...</td>\n",
       "      <td>[{'name': 'eat Omega-3', 'date': 1569335492}, ...</td>\n",
       "      <td>1</td>\n",
       "      <td>35</td>\n",
       "      <td>M</td>\n",
       "    </tr>\n",
       "    <tr>\n",
       "      <th>1</th>\n",
       "      <td>1</td>\n",
       "      <td>[{'name': 'backache', 'date': 1515771831, 'str...</td>\n",
       "      <td>[{'activity': 'meditation', 'date': 1531894948...</td>\n",
       "      <td>[{'name': 'Do knee exercises', 'date': 1549925...</td>\n",
       "      <td>2</td>\n",
       "      <td>69</td>\n",
       "      <td>M</td>\n",
       "    </tr>\n",
       "    <tr>\n",
       "      <th>2</th>\n",
       "      <td>2</td>\n",
       "      <td>[{'name': 'fatigue', 'date': 1595694786, 'stre...</td>\n",
       "      <td>[{'activity': 'running', 'date': 1526578035, '...</td>\n",
       "      <td>[{'name': 'write journal entry', 'date': 15751...</td>\n",
       "      <td>3</td>\n",
       "      <td>40</td>\n",
       "      <td>M</td>\n",
       "    </tr>\n",
       "    <tr>\n",
       "      <th>3</th>\n",
       "      <td>3</td>\n",
       "      <td>[{'name': 'high blood pressure', 'date': 15088...</td>\n",
       "      <td>[{'activity': 'running', 'date': 1570003333, '...</td>\n",
       "      <td>[{'name': 'Do knee exercises', 'date': 1553185...</td>\n",
       "      <td>4</td>\n",
       "      <td>51</td>\n",
       "      <td>F</td>\n",
       "    </tr>\n",
       "    <tr>\n",
       "      <th>4</th>\n",
       "      <td>4</td>\n",
       "      <td>[{'name': 'muscle pain', 'date': 1582910637, '...</td>\n",
       "      <td>[{'activity': 'fishing', 'date': 1586464198, '...</td>\n",
       "      <td>[{'name': 'write journal entry', 'date': 15553...</td>\n",
       "      <td>5</td>\n",
       "      <td>25</td>\n",
       "      <td>M</td>\n",
       "    </tr>\n",
       "  </tbody>\n",
       "</table>\n",
       "</div>"
      ],
      "text/plain": [
       "   Unnamed: 0                                           symptoms  \\\n",
       "0           0  [{'name': 'backache', 'date': 1530680440, 'str...   \n",
       "1           1  [{'name': 'backache', 'date': 1515771831, 'str...   \n",
       "2           2  [{'name': 'fatigue', 'date': 1595694786, 'stre...   \n",
       "3           3  [{'name': 'high blood pressure', 'date': 15088...   \n",
       "4           4  [{'name': 'muscle pain', 'date': 1582910637, '...   \n",
       "\n",
       "                                          activities  \\\n",
       "0  [{'activity': 'fishing', 'date': 1582084266, '...   \n",
       "1  [{'activity': 'meditation', 'date': 1531894948...   \n",
       "2  [{'activity': 'running', 'date': 1526578035, '...   \n",
       "3  [{'activity': 'running', 'date': 1570003333, '...   \n",
       "4  [{'activity': 'fishing', 'date': 1586464198, '...   \n",
       "\n",
       "                                           constants  user  age gender  \n",
       "0  [{'name': 'eat Omega-3', 'date': 1569335492}, ...     1   35      M  \n",
       "1  [{'name': 'Do knee exercises', 'date': 1549925...     2   69      M  \n",
       "2  [{'name': 'write journal entry', 'date': 15751...     3   40      M  \n",
       "3  [{'name': 'Do knee exercises', 'date': 1553185...     4   51      F  \n",
       "4  [{'name': 'write journal entry', 'date': 15553...     5   25      M  "
      ]
     },
     "execution_count": 8,
     "metadata": {},
     "output_type": "execute_result"
    }
   ],
   "source": [
    "df2.head()"
   ]
  },
  {
   "cell_type": "code",
   "execution_count": 9,
   "metadata": {},
   "outputs": [],
   "source": [
    "df3=pd.merge(df1,df2,how=\"outer\")"
   ]
  },
  {
   "cell_type": "code",
   "execution_count": 10,
   "metadata": {},
   "outputs": [
    {
     "name": "stdout",
     "output_type": "stream",
     "text": [
      "<class 'pandas.core.frame.DataFrame'>\n",
      "Int64Index: 999 entries, 0 to 998\n",
      "Data columns (total 8 columns):\n",
      "Unnamed: 0      999 non-null int64\n",
      "appointments    939 non-null object\n",
      "user            999 non-null int64\n",
      "symptoms        999 non-null object\n",
      "activities      999 non-null object\n",
      "constants       999 non-null object\n",
      "age             999 non-null int64\n",
      "gender          999 non-null object\n",
      "dtypes: int64(3), object(5)\n",
      "memory usage: 70.2+ KB\n"
     ]
    }
   ],
   "source": [
    "df3.info()"
   ]
  },
  {
   "cell_type": "code",
   "execution_count": 11,
   "metadata": {},
   "outputs": [
    {
     "data": {
      "text/html": [
       "<div>\n",
       "<style scoped>\n",
       "    .dataframe tbody tr th:only-of-type {\n",
       "        vertical-align: middle;\n",
       "    }\n",
       "\n",
       "    .dataframe tbody tr th {\n",
       "        vertical-align: top;\n",
       "    }\n",
       "\n",
       "    .dataframe thead th {\n",
       "        text-align: right;\n",
       "    }\n",
       "</style>\n",
       "<table border=\"1\" class=\"dataframe\">\n",
       "  <thead>\n",
       "    <tr style=\"text-align: right;\">\n",
       "      <th></th>\n",
       "      <th>Unnamed: 0</th>\n",
       "      <th>appointments</th>\n",
       "      <th>user</th>\n",
       "      <th>symptoms</th>\n",
       "      <th>activities</th>\n",
       "      <th>constants</th>\n",
       "      <th>age</th>\n",
       "      <th>gender</th>\n",
       "    </tr>\n",
       "  </thead>\n",
       "  <tbody>\n",
       "    <tr>\n",
       "      <th>0</th>\n",
       "      <td>0</td>\n",
       "      <td>[{u'date': 1557129130, u'doctor': u'Dr. Yen'},...</td>\n",
       "      <td>1</td>\n",
       "      <td>[{'name': 'backache', 'date': 1530680440, 'str...</td>\n",
       "      <td>[{'activity': 'fishing', 'date': 1582084266, '...</td>\n",
       "      <td>[{'name': 'eat Omega-3', 'date': 1569335492}, ...</td>\n",
       "      <td>35</td>\n",
       "      <td>M</td>\n",
       "    </tr>\n",
       "    <tr>\n",
       "      <th>1</th>\n",
       "      <td>1</td>\n",
       "      <td>[{u'date': 1542408628, u'doctor': u'Dr. Jones'...</td>\n",
       "      <td>2</td>\n",
       "      <td>[{'name': 'backache', 'date': 1515771831, 'str...</td>\n",
       "      <td>[{'activity': 'meditation', 'date': 1531894948...</td>\n",
       "      <td>[{'name': 'Do knee exercises', 'date': 1549925...</td>\n",
       "      <td>69</td>\n",
       "      <td>M</td>\n",
       "    </tr>\n",
       "    <tr>\n",
       "      <th>2</th>\n",
       "      <td>2</td>\n",
       "      <td>[{u'date': 1554590672, u'doctor': u'Dr. Salkio...</td>\n",
       "      <td>3</td>\n",
       "      <td>[{'name': 'fatigue', 'date': 1595694786, 'stre...</td>\n",
       "      <td>[{'activity': 'running', 'date': 1526578035, '...</td>\n",
       "      <td>[{'name': 'write journal entry', 'date': 15751...</td>\n",
       "      <td>40</td>\n",
       "      <td>M</td>\n",
       "    </tr>\n",
       "    <tr>\n",
       "      <th>3</th>\n",
       "      <td>3</td>\n",
       "      <td>[{u'date': 1551717508, u'doctor': u'Dr. Salkio...</td>\n",
       "      <td>4</td>\n",
       "      <td>[{'name': 'high blood pressure', 'date': 15088...</td>\n",
       "      <td>[{'activity': 'running', 'date': 1570003333, '...</td>\n",
       "      <td>[{'name': 'Do knee exercises', 'date': 1553185...</td>\n",
       "      <td>51</td>\n",
       "      <td>F</td>\n",
       "    </tr>\n",
       "    <tr>\n",
       "      <th>4</th>\n",
       "      <td>4</td>\n",
       "      <td>[{u'date': 1583643001, u'doctor': u'Dr. Sarias...</td>\n",
       "      <td>5</td>\n",
       "      <td>[{'name': 'muscle pain', 'date': 1582910637, '...</td>\n",
       "      <td>[{'activity': 'fishing', 'date': 1586464198, '...</td>\n",
       "      <td>[{'name': 'write journal entry', 'date': 15553...</td>\n",
       "      <td>25</td>\n",
       "      <td>M</td>\n",
       "    </tr>\n",
       "  </tbody>\n",
       "</table>\n",
       "</div>"
      ],
      "text/plain": [
       "   Unnamed: 0                                       appointments  user  \\\n",
       "0           0  [{u'date': 1557129130, u'doctor': u'Dr. Yen'},...     1   \n",
       "1           1  [{u'date': 1542408628, u'doctor': u'Dr. Jones'...     2   \n",
       "2           2  [{u'date': 1554590672, u'doctor': u'Dr. Salkio...     3   \n",
       "3           3  [{u'date': 1551717508, u'doctor': u'Dr. Salkio...     4   \n",
       "4           4  [{u'date': 1583643001, u'doctor': u'Dr. Sarias...     5   \n",
       "\n",
       "                                            symptoms  \\\n",
       "0  [{'name': 'backache', 'date': 1530680440, 'str...   \n",
       "1  [{'name': 'backache', 'date': 1515771831, 'str...   \n",
       "2  [{'name': 'fatigue', 'date': 1595694786, 'stre...   \n",
       "3  [{'name': 'high blood pressure', 'date': 15088...   \n",
       "4  [{'name': 'muscle pain', 'date': 1582910637, '...   \n",
       "\n",
       "                                          activities  \\\n",
       "0  [{'activity': 'fishing', 'date': 1582084266, '...   \n",
       "1  [{'activity': 'meditation', 'date': 1531894948...   \n",
       "2  [{'activity': 'running', 'date': 1526578035, '...   \n",
       "3  [{'activity': 'running', 'date': 1570003333, '...   \n",
       "4  [{'activity': 'fishing', 'date': 1586464198, '...   \n",
       "\n",
       "                                           constants  age gender  \n",
       "0  [{'name': 'eat Omega-3', 'date': 1569335492}, ...   35      M  \n",
       "1  [{'name': 'Do knee exercises', 'date': 1549925...   69      M  \n",
       "2  [{'name': 'write journal entry', 'date': 15751...   40      M  \n",
       "3  [{'name': 'Do knee exercises', 'date': 1553185...   51      F  \n",
       "4  [{'name': 'write journal entry', 'date': 15553...   25      M  "
      ]
     },
     "execution_count": 11,
     "metadata": {},
     "output_type": "execute_result"
    }
   ],
   "source": [
    "df3.head()"
   ]
  },
  {
   "cell_type": "code",
   "execution_count": 12,
   "metadata": {},
   "outputs": [],
   "source": [
    "import yaml"
   ]
  },
  {
   "cell_type": "code",
   "execution_count": 13,
   "metadata": {},
   "outputs": [],
   "source": [
    "def list_of_lists_of_dictionaries_to_df(aan):\n",
    "    df9=pd.DataFrame()\n",
    "    for a in range(len(aan)):\n",
    "        x=yaml.load(aan[a])\n",
    "        dd=pd.DataFrame(x)\n",
    "        if a==0:\n",
    "            df9=dd\n",
    "            continue\n",
    "        df9=pd.concat([df9,dd],axis=0)\n",
    "    return df9"
   ]
  },
  {
   "cell_type": "code",
   "execution_count": 14,
   "metadata": {},
   "outputs": [],
   "source": [
    "def no_of_appointments(aan):\n",
    "    df9=[]\n",
    "    for a in range(len(aan)):\n",
    "        x=yaml.load(aan[a])\n",
    "        dd=pd.DataFrame(x)\n",
    "        df9.append(len(dd))\n",
    "    return df9"
   ]
  },
  {
   "cell_type": "code",
   "execution_count": 15,
   "metadata": {},
   "outputs": [],
   "source": [
    "#np.stack(pd.DataFrame((yaml.load(df1[\"appointments\"][0])),pd.DataFrame(yaml.load(df1[\"appointments\"][1]))))"
   ]
  },
  {
   "cell_type": "code",
   "execution_count": 16,
   "metadata": {},
   "outputs": [],
   "source": [
    "#nn=pd.concat([pd.DataFrame(yaml.load(df1[\"appointments\"][1])),pd.DataFrame(yaml.load(df1[\"appointments\"][0]))],axis=0)"
   ]
  },
  {
   "cell_type": "code",
   "execution_count": 17,
   "metadata": {},
   "outputs": [
    {
     "name": "stderr",
     "output_type": "stream",
     "text": [
      "D:\\Genral Softwares\\Anaconda\\lib\\site-packages\\ipykernel_launcher.py:4: YAMLLoadWarning: calling yaml.load() without Loader=... is deprecated, as the default Loader is unsafe. Please read https://msg.pyyaml.org/load for full details.\n",
      "  after removing the cwd from sys.path.\n"
     ]
    }
   ],
   "source": [
    "df9=list_of_lists_of_dictionaries_to_df(df1[\"appointments\"])"
   ]
  },
  {
   "cell_type": "code",
   "execution_count": 18,
   "metadata": {},
   "outputs": [
    {
     "name": "stdout",
     "output_type": "stream",
     "text": [
      "<class 'pandas.core.frame.DataFrame'>\n",
      "Int64Index: 15460 entries, 0 to 24\n",
      "Data columns (total 2 columns):\n",
      "u'date'      15460 non-null int64\n",
      "u'doctor'    15460 non-null object\n",
      "dtypes: int64(1), object(1)\n",
      "memory usage: 362.3+ KB\n"
     ]
    }
   ],
   "source": [
    "df9.info()"
   ]
  },
  {
   "cell_type": "code",
   "execution_count": 19,
   "metadata": {},
   "outputs": [
    {
     "data": {
      "text/html": [
       "<div>\n",
       "<style scoped>\n",
       "    .dataframe tbody tr th:only-of-type {\n",
       "        vertical-align: middle;\n",
       "    }\n",
       "\n",
       "    .dataframe tbody tr th {\n",
       "        vertical-align: top;\n",
       "    }\n",
       "\n",
       "    .dataframe thead th {\n",
       "        text-align: right;\n",
       "    }\n",
       "</style>\n",
       "<table border=\"1\" class=\"dataframe\">\n",
       "  <thead>\n",
       "    <tr style=\"text-align: right;\">\n",
       "      <th></th>\n",
       "      <th>u'date'</th>\n",
       "      <th>u'doctor'</th>\n",
       "    </tr>\n",
       "  </thead>\n",
       "  <tbody>\n",
       "    <tr>\n",
       "      <th>20</th>\n",
       "      <td>1584147931</td>\n",
       "      <td>u'Dr. Yen'</td>\n",
       "    </tr>\n",
       "    <tr>\n",
       "      <th>21</th>\n",
       "      <td>1571382908</td>\n",
       "      <td>u'Dr. Jones'</td>\n",
       "    </tr>\n",
       "    <tr>\n",
       "      <th>22</th>\n",
       "      <td>1572279112</td>\n",
       "      <td>u'Dr. Yen'</td>\n",
       "    </tr>\n",
       "    <tr>\n",
       "      <th>23</th>\n",
       "      <td>1586077943</td>\n",
       "      <td>u'Dr. Salkioff'</td>\n",
       "    </tr>\n",
       "    <tr>\n",
       "      <th>24</th>\n",
       "      <td>1539089125</td>\n",
       "      <td>u'Dr. Abdul'</td>\n",
       "    </tr>\n",
       "  </tbody>\n",
       "</table>\n",
       "</div>"
      ],
      "text/plain": [
       "       u'date'        u'doctor'\n",
       "20  1584147931       u'Dr. Yen'\n",
       "21  1571382908     u'Dr. Jones'\n",
       "22  1572279112       u'Dr. Yen'\n",
       "23  1586077943  u'Dr. Salkioff'\n",
       "24  1539089125     u'Dr. Abdul'"
      ]
     },
     "execution_count": 19,
     "metadata": {},
     "output_type": "execute_result"
    }
   ],
   "source": [
    "df9.tail()"
   ]
  },
  {
   "cell_type": "code",
   "execution_count": 20,
   "metadata": {},
   "outputs": [
    {
     "name": "stderr",
     "output_type": "stream",
     "text": [
      "D:\\Genral Softwares\\Anaconda\\lib\\site-packages\\ipykernel_launcher.py:4: YAMLLoadWarning: calling yaml.load() without Loader=... is deprecated, as the default Loader is unsafe. Please read https://msg.pyyaml.org/load for full details.\n",
      "  after removing the cwd from sys.path.\n"
     ]
    }
   ],
   "source": [
    "ddf=list_of_lists_of_dictionaries_to_df(df2[\"symptoms\"])"
   ]
  },
  {
   "cell_type": "code",
   "execution_count": 21,
   "metadata": {},
   "outputs": [
    {
     "name": "stdout",
     "output_type": "stream",
     "text": [
      "<class 'pandas.core.frame.DataFrame'>\n",
      "Int64Index: 13085 entries, 0 to 13\n",
      "Data columns (total 3 columns):\n",
      "date        13085 non-null int64\n",
      "name        13085 non-null object\n",
      "strength    13085 non-null int64\n",
      "dtypes: int64(2), object(1)\n",
      "memory usage: 408.9+ KB\n"
     ]
    }
   ],
   "source": [
    "ddf.info()"
   ]
  },
  {
   "cell_type": "code",
   "execution_count": 22,
   "metadata": {},
   "outputs": [
    {
     "name": "stderr",
     "output_type": "stream",
     "text": [
      "D:\\Genral Softwares\\Anaconda\\lib\\site-packages\\ipykernel_launcher.py:4: YAMLLoadWarning: calling yaml.load() without Loader=... is deprecated, as the default Loader is unsafe. Please read https://msg.pyyaml.org/load for full details.\n",
      "  after removing the cwd from sys.path.\n"
     ]
    }
   ],
   "source": [
    "dff=list_of_lists_of_dictionaries_to_df(df2[\"activities\"])"
   ]
  },
  {
   "cell_type": "code",
   "execution_count": 23,
   "metadata": {},
   "outputs": [
    {
     "name": "stdout",
     "output_type": "stream",
     "text": [
      "<class 'pandas.core.frame.DataFrame'>\n",
      "Int64Index: 15473 entries, 0 to 25\n",
      "Data columns (total 4 columns):\n",
      "activity    15473 non-null object\n",
      "after       15473 non-null int64\n",
      "before      15473 non-null int64\n",
      "date        15473 non-null int64\n",
      "dtypes: int64(3), object(1)\n",
      "memory usage: 604.4+ KB\n"
     ]
    }
   ],
   "source": [
    "dff.info()"
   ]
  },
  {
   "cell_type": "code",
   "execution_count": 24,
   "metadata": {},
   "outputs": [
    {
     "data": {
      "text/html": [
       "<div>\n",
       "<style scoped>\n",
       "    .dataframe tbody tr th:only-of-type {\n",
       "        vertical-align: middle;\n",
       "    }\n",
       "\n",
       "    .dataframe tbody tr th {\n",
       "        vertical-align: top;\n",
       "    }\n",
       "\n",
       "    .dataframe thead th {\n",
       "        text-align: right;\n",
       "    }\n",
       "</style>\n",
       "<table border=\"1\" class=\"dataframe\">\n",
       "  <thead>\n",
       "    <tr style=\"text-align: right;\">\n",
       "      <th></th>\n",
       "      <th>activity</th>\n",
       "      <th>after</th>\n",
       "      <th>before</th>\n",
       "      <th>date</th>\n",
       "    </tr>\n",
       "  </thead>\n",
       "  <tbody>\n",
       "    <tr>\n",
       "      <th>0</th>\n",
       "      <td>fishing</td>\n",
       "      <td>1</td>\n",
       "      <td>3</td>\n",
       "      <td>1582084266</td>\n",
       "    </tr>\n",
       "    <tr>\n",
       "      <th>1</th>\n",
       "      <td>soccer</td>\n",
       "      <td>1</td>\n",
       "      <td>2</td>\n",
       "      <td>1572800887</td>\n",
       "    </tr>\n",
       "    <tr>\n",
       "      <th>2</th>\n",
       "      <td>soccer</td>\n",
       "      <td>3</td>\n",
       "      <td>4</td>\n",
       "      <td>1557499034</td>\n",
       "    </tr>\n",
       "    <tr>\n",
       "      <th>3</th>\n",
       "      <td>meditation</td>\n",
       "      <td>1</td>\n",
       "      <td>2</td>\n",
       "      <td>1561290915</td>\n",
       "    </tr>\n",
       "    <tr>\n",
       "      <th>4</th>\n",
       "      <td>yoga</td>\n",
       "      <td>1</td>\n",
       "      <td>4</td>\n",
       "      <td>1485172311</td>\n",
       "    </tr>\n",
       "  </tbody>\n",
       "</table>\n",
       "</div>"
      ],
      "text/plain": [
       "     activity  after  before        date\n",
       "0     fishing      1       3  1582084266\n",
       "1      soccer      1       2  1572800887\n",
       "2      soccer      3       4  1557499034\n",
       "3  meditation      1       2  1561290915\n",
       "4        yoga      1       4  1485172311"
      ]
     },
     "execution_count": 24,
     "metadata": {},
     "output_type": "execute_result"
    }
   ],
   "source": [
    "dff.head()"
   ]
  },
  {
   "cell_type": "code",
   "execution_count": 25,
   "metadata": {},
   "outputs": [
    {
     "data": {
      "text/html": [
       "<div>\n",
       "<style scoped>\n",
       "    .dataframe tbody tr th:only-of-type {\n",
       "        vertical-align: middle;\n",
       "    }\n",
       "\n",
       "    .dataframe tbody tr th {\n",
       "        vertical-align: top;\n",
       "    }\n",
       "\n",
       "    .dataframe thead th {\n",
       "        text-align: right;\n",
       "    }\n",
       "</style>\n",
       "<table border=\"1\" class=\"dataframe\">\n",
       "  <thead>\n",
       "    <tr style=\"text-align: right;\">\n",
       "      <th></th>\n",
       "      <th>date</th>\n",
       "      <th>name</th>\n",
       "      <th>strength</th>\n",
       "    </tr>\n",
       "  </thead>\n",
       "  <tbody>\n",
       "    <tr>\n",
       "      <th>0</th>\n",
       "      <td>1530680440</td>\n",
       "      <td>backache</td>\n",
       "      <td>1</td>\n",
       "    </tr>\n",
       "    <tr>\n",
       "      <th>1</th>\n",
       "      <td>1556070517</td>\n",
       "      <td>cramps</td>\n",
       "      <td>2</td>\n",
       "    </tr>\n",
       "    <tr>\n",
       "      <th>2</th>\n",
       "      <td>1510950324</td>\n",
       "      <td>backache</td>\n",
       "      <td>3</td>\n",
       "    </tr>\n",
       "    <tr>\n",
       "      <th>3</th>\n",
       "      <td>1577089119</td>\n",
       "      <td>backache</td>\n",
       "      <td>1</td>\n",
       "    </tr>\n",
       "    <tr>\n",
       "      <th>4</th>\n",
       "      <td>1575599213</td>\n",
       "      <td>fatigue</td>\n",
       "      <td>1</td>\n",
       "    </tr>\n",
       "  </tbody>\n",
       "</table>\n",
       "</div>"
      ],
      "text/plain": [
       "         date      name  strength\n",
       "0  1530680440  backache         1\n",
       "1  1556070517    cramps         2\n",
       "2  1510950324  backache         3\n",
       "3  1577089119  backache         1\n",
       "4  1575599213   fatigue         1"
      ]
     },
     "execution_count": 25,
     "metadata": {},
     "output_type": "execute_result"
    }
   ],
   "source": [
    "ddf.head()"
   ]
  },
  {
   "cell_type": "code",
   "execution_count": 26,
   "metadata": {},
   "outputs": [
    {
     "data": {
      "text/html": [
       "<div>\n",
       "<style scoped>\n",
       "    .dataframe tbody tr th:only-of-type {\n",
       "        vertical-align: middle;\n",
       "    }\n",
       "\n",
       "    .dataframe tbody tr th {\n",
       "        vertical-align: top;\n",
       "    }\n",
       "\n",
       "    .dataframe thead th {\n",
       "        text-align: right;\n",
       "    }\n",
       "</style>\n",
       "<table border=\"1\" class=\"dataframe\">\n",
       "  <thead>\n",
       "    <tr style=\"text-align: right;\">\n",
       "      <th></th>\n",
       "      <th>Unnamed: 0</th>\n",
       "      <th>user</th>\n",
       "    </tr>\n",
       "  </thead>\n",
       "  <tbody>\n",
       "    <tr>\n",
       "      <th>count</th>\n",
       "      <td>939.000000</td>\n",
       "      <td>939.000000</td>\n",
       "    </tr>\n",
       "    <tr>\n",
       "      <th>mean</th>\n",
       "      <td>469.000000</td>\n",
       "      <td>470.000000</td>\n",
       "    </tr>\n",
       "    <tr>\n",
       "      <th>std</th>\n",
       "      <td>271.210251</td>\n",
       "      <td>271.210251</td>\n",
       "    </tr>\n",
       "    <tr>\n",
       "      <th>min</th>\n",
       "      <td>0.000000</td>\n",
       "      <td>1.000000</td>\n",
       "    </tr>\n",
       "    <tr>\n",
       "      <th>25%</th>\n",
       "      <td>234.500000</td>\n",
       "      <td>235.500000</td>\n",
       "    </tr>\n",
       "    <tr>\n",
       "      <th>50%</th>\n",
       "      <td>469.000000</td>\n",
       "      <td>470.000000</td>\n",
       "    </tr>\n",
       "    <tr>\n",
       "      <th>75%</th>\n",
       "      <td>703.500000</td>\n",
       "      <td>704.500000</td>\n",
       "    </tr>\n",
       "    <tr>\n",
       "      <th>max</th>\n",
       "      <td>938.000000</td>\n",
       "      <td>939.000000</td>\n",
       "    </tr>\n",
       "  </tbody>\n",
       "</table>\n",
       "</div>"
      ],
      "text/plain": [
       "       Unnamed: 0        user\n",
       "count  939.000000  939.000000\n",
       "mean   469.000000  470.000000\n",
       "std    271.210251  271.210251\n",
       "min      0.000000    1.000000\n",
       "25%    234.500000  235.500000\n",
       "50%    469.000000  470.000000\n",
       "75%    703.500000  704.500000\n",
       "max    938.000000  939.000000"
      ]
     },
     "execution_count": 26,
     "metadata": {},
     "output_type": "execute_result"
    }
   ],
   "source": [
    "df1.describe()"
   ]
  },
  {
   "cell_type": "code",
   "execution_count": 27,
   "metadata": {},
   "outputs": [
    {
     "data": {
      "text/plain": [
       "Unnamed: 0    469.0\n",
       "user          470.0\n",
       "dtype: float64"
      ]
     },
     "execution_count": 27,
     "metadata": {},
     "output_type": "execute_result"
    }
   ],
   "source": [
    "df1.median()"
   ]
  },
  {
   "cell_type": "code",
   "execution_count": 28,
   "metadata": {},
   "outputs": [
    {
     "name": "stderr",
     "output_type": "stream",
     "text": [
      "D:\\Genral Softwares\\Anaconda\\lib\\site-packages\\ipykernel_launcher.py:4: YAMLLoadWarning: calling yaml.load() without Loader=... is deprecated, as the default Loader is unsafe. Please read https://msg.pyyaml.org/load for full details.\n",
      "  after removing the cwd from sys.path.\n"
     ]
    }
   ],
   "source": [
    "a=no_of_appointments(df1[\"appointments\"])"
   ]
  },
  {
   "cell_type": "code",
   "execution_count": 29,
   "metadata": {},
   "outputs": [],
   "source": [
    "a=pd.Series(a)"
   ]
  },
  {
   "cell_type": "code",
   "execution_count": 30,
   "metadata": {},
   "outputs": [
    {
     "data": {
      "text/plain": [
       "15460"
      ]
     },
     "execution_count": 30,
     "metadata": {},
     "output_type": "execute_result"
    }
   ],
   "source": [
    "a.sum()"
   ]
  },
  {
   "cell_type": "markdown",
   "metadata": {},
   "source": [
    "# ** the user's strength for each symptom (symptoms.strength) compared to other users who have appointments with the same doctor **"
   ]
  },
  {
   "cell_type": "code",
   "execution_count": 31,
   "metadata": {},
   "outputs": [
    {
     "data": {
      "text/html": [
       "<div>\n",
       "<style scoped>\n",
       "    .dataframe tbody tr th:only-of-type {\n",
       "        vertical-align: middle;\n",
       "    }\n",
       "\n",
       "    .dataframe tbody tr th {\n",
       "        vertical-align: top;\n",
       "    }\n",
       "\n",
       "    .dataframe thead th {\n",
       "        text-align: right;\n",
       "    }\n",
       "</style>\n",
       "<table border=\"1\" class=\"dataframe\">\n",
       "  <thead>\n",
       "    <tr style=\"text-align: right;\">\n",
       "      <th></th>\n",
       "      <th>date</th>\n",
       "      <th>name</th>\n",
       "      <th>strength</th>\n",
       "    </tr>\n",
       "  </thead>\n",
       "  <tbody>\n",
       "    <tr>\n",
       "      <th>0</th>\n",
       "      <td>1530680440</td>\n",
       "      <td>backache</td>\n",
       "      <td>1</td>\n",
       "    </tr>\n",
       "    <tr>\n",
       "      <th>1</th>\n",
       "      <td>1556070517</td>\n",
       "      <td>cramps</td>\n",
       "      <td>2</td>\n",
       "    </tr>\n",
       "    <tr>\n",
       "      <th>2</th>\n",
       "      <td>1510950324</td>\n",
       "      <td>backache</td>\n",
       "      <td>3</td>\n",
       "    </tr>\n",
       "    <tr>\n",
       "      <th>3</th>\n",
       "      <td>1577089119</td>\n",
       "      <td>backache</td>\n",
       "      <td>1</td>\n",
       "    </tr>\n",
       "    <tr>\n",
       "      <th>4</th>\n",
       "      <td>1575599213</td>\n",
       "      <td>fatigue</td>\n",
       "      <td>1</td>\n",
       "    </tr>\n",
       "  </tbody>\n",
       "</table>\n",
       "</div>"
      ],
      "text/plain": [
       "         date      name  strength\n",
       "0  1530680440  backache         1\n",
       "1  1556070517    cramps         2\n",
       "2  1510950324  backache         3\n",
       "3  1577089119  backache         1\n",
       "4  1575599213   fatigue         1"
      ]
     },
     "execution_count": 31,
     "metadata": {},
     "output_type": "execute_result"
    }
   ],
   "source": [
    "ddf.head()"
   ]
  },
  {
   "cell_type": "markdown",
   "metadata": {},
   "source": [
    "# **4**"
   ]
  },
  {
   "cell_type": "code",
   "execution_count": 32,
   "metadata": {},
   "outputs": [
    {
     "data": {
      "text/html": [
       "<div>\n",
       "<style scoped>\n",
       "    .dataframe tbody tr th:only-of-type {\n",
       "        vertical-align: middle;\n",
       "    }\n",
       "\n",
       "    .dataframe tbody tr th {\n",
       "        vertical-align: top;\n",
       "    }\n",
       "\n",
       "    .dataframe thead th {\n",
       "        text-align: right;\n",
       "    }\n",
       "</style>\n",
       "<table border=\"1\" class=\"dataframe\">\n",
       "  <thead>\n",
       "    <tr style=\"text-align: right;\">\n",
       "      <th></th>\n",
       "      <th>date</th>\n",
       "      <th>name</th>\n",
       "      <th>strength</th>\n",
       "    </tr>\n",
       "  </thead>\n",
       "  <tbody>\n",
       "    <tr>\n",
       "      <th>0</th>\n",
       "      <td>1530680440</td>\n",
       "      <td>backache</td>\n",
       "      <td>1</td>\n",
       "    </tr>\n",
       "    <tr>\n",
       "      <th>1</th>\n",
       "      <td>1556070517</td>\n",
       "      <td>cramps</td>\n",
       "      <td>2</td>\n",
       "    </tr>\n",
       "    <tr>\n",
       "      <th>2</th>\n",
       "      <td>1510950324</td>\n",
       "      <td>backache</td>\n",
       "      <td>3</td>\n",
       "    </tr>\n",
       "    <tr>\n",
       "      <th>3</th>\n",
       "      <td>1577089119</td>\n",
       "      <td>backache</td>\n",
       "      <td>1</td>\n",
       "    </tr>\n",
       "    <tr>\n",
       "      <th>4</th>\n",
       "      <td>1575599213</td>\n",
       "      <td>fatigue</td>\n",
       "      <td>1</td>\n",
       "    </tr>\n",
       "  </tbody>\n",
       "</table>\n",
       "</div>"
      ],
      "text/plain": [
       "         date      name  strength\n",
       "0  1530680440  backache         1\n",
       "1  1556070517    cramps         2\n",
       "2  1510950324  backache         3\n",
       "3  1577089119  backache         1\n",
       "4  1575599213   fatigue         1"
      ]
     },
     "execution_count": 32,
     "metadata": {},
     "output_type": "execute_result"
    }
   ],
   "source": [
    "ddf.head()"
   ]
  },
  {
   "cell_type": "code",
   "execution_count": 33,
   "metadata": {},
   "outputs": [
    {
     "data": {
      "text/html": [
       "<div>\n",
       "<style scoped>\n",
       "    .dataframe tbody tr th:only-of-type {\n",
       "        vertical-align: middle;\n",
       "    }\n",
       "\n",
       "    .dataframe tbody tr th {\n",
       "        vertical-align: top;\n",
       "    }\n",
       "\n",
       "    .dataframe thead th {\n",
       "        text-align: right;\n",
       "    }\n",
       "</style>\n",
       "<table border=\"1\" class=\"dataframe\">\n",
       "  <thead>\n",
       "    <tr style=\"text-align: right;\">\n",
       "      <th></th>\n",
       "      <th>activity</th>\n",
       "      <th>after</th>\n",
       "      <th>before</th>\n",
       "      <th>date</th>\n",
       "    </tr>\n",
       "  </thead>\n",
       "  <tbody>\n",
       "    <tr>\n",
       "      <th>0</th>\n",
       "      <td>fishing</td>\n",
       "      <td>1</td>\n",
       "      <td>3</td>\n",
       "      <td>1582084266</td>\n",
       "    </tr>\n",
       "    <tr>\n",
       "      <th>1</th>\n",
       "      <td>soccer</td>\n",
       "      <td>1</td>\n",
       "      <td>2</td>\n",
       "      <td>1572800887</td>\n",
       "    </tr>\n",
       "    <tr>\n",
       "      <th>2</th>\n",
       "      <td>soccer</td>\n",
       "      <td>3</td>\n",
       "      <td>4</td>\n",
       "      <td>1557499034</td>\n",
       "    </tr>\n",
       "    <tr>\n",
       "      <th>3</th>\n",
       "      <td>meditation</td>\n",
       "      <td>1</td>\n",
       "      <td>2</td>\n",
       "      <td>1561290915</td>\n",
       "    </tr>\n",
       "    <tr>\n",
       "      <th>4</th>\n",
       "      <td>yoga</td>\n",
       "      <td>1</td>\n",
       "      <td>4</td>\n",
       "      <td>1485172311</td>\n",
       "    </tr>\n",
       "  </tbody>\n",
       "</table>\n",
       "</div>"
      ],
      "text/plain": [
       "     activity  after  before        date\n",
       "0     fishing      1       3  1582084266\n",
       "1      soccer      1       2  1572800887\n",
       "2      soccer      3       4  1557499034\n",
       "3  meditation      1       2  1561290915\n",
       "4        yoga      1       4  1485172311"
      ]
     },
     "execution_count": 33,
     "metadata": {},
     "output_type": "execute_result"
    }
   ],
   "source": [
    "dff.head()"
   ]
  },
  {
   "cell_type": "code",
   "execution_count": 107,
   "metadata": {},
   "outputs": [
    {
     "name": "stderr",
     "output_type": "stream",
     "text": [
      "D:\\Genral Softwares\\Anaconda\\lib\\site-packages\\ipykernel_launcher.py:4: YAMLLoadWarning: calling yaml.load() without Loader=... is deprecated, as the default Loader is unsafe. Please read https://msg.pyyaml.org/load for full details.\n",
      "  after removing the cwd from sys.path.\n"
     ]
    }
   ],
   "source": [
    "def mean_strength(aan):\n",
    "    df9=[]\n",
    "    for a in range(len(aan)):\n",
    "        x=yaml.load(aan[a])\n",
    "        dd=pd.DataFrame(x)\n",
    "        df9.append(dd[\"strength\"].mean())\n",
    "    return df9\n",
    "n=mean_strength(df3[\"symptoms\"])\n",
    "n.sort()\n",
    "df3[\"mean_strength\"]=n\n",
    "ff=df3.sort_values(by=\"mean_strength\").head(100)\n",
    "ff[\"gender\"].value_counts()\n",
    "ff[\"age\"].value_counts().plot(kind=\"bar\")\n",
    "m=no_of_appointments(df3[\"activities\"])\n",
    "df3[\"no_of_activities\"]=m"
   ]
  },
  {
   "cell_type": "code",
   "execution_count": 50,
   "metadata": {},
   "outputs": [],
   "source": [
    "_10_percent=df3.sort_values(by=\"mean_strength\").head(100)\n",
    "_10_percent[\"gender\"].value_counts()\n",
    "_10_percent[\"no_of_activities\"].value_counts()\n",
    "per=_10_percent[\"no_of_activities\"].value_counts().sort_index()"
   ]
  },
  {
   "cell_type": "code",
   "execution_count": 111,
   "metadata": {},
   "outputs": [
    {
     "data": {
      "text/html": [
       "<div>\n",
       "<style scoped>\n",
       "    .dataframe tbody tr th:only-of-type {\n",
       "        vertical-align: middle;\n",
       "    }\n",
       "\n",
       "    .dataframe tbody tr th {\n",
       "        vertical-align: top;\n",
       "    }\n",
       "\n",
       "    .dataframe thead th {\n",
       "        text-align: right;\n",
       "    }\n",
       "</style>\n",
       "<table border=\"1\" class=\"dataframe\">\n",
       "  <thead>\n",
       "    <tr style=\"text-align: right;\">\n",
       "      <th></th>\n",
       "      <th>activities_range</th>\n",
       "      <th>no_of_activities</th>\n",
       "    </tr>\n",
       "  </thead>\n",
       "  <tbody>\n",
       "    <tr>\n",
       "      <th>0</th>\n",
       "      <td>2-10</td>\n",
       "      <td>41</td>\n",
       "    </tr>\n",
       "    <tr>\n",
       "      <th>1</th>\n",
       "      <td>10-20</td>\n",
       "      <td>31</td>\n",
       "    </tr>\n",
       "    <tr>\n",
       "      <th>2</th>\n",
       "      <td>20-30</td>\n",
       "      <td>28</td>\n",
       "    </tr>\n",
       "  </tbody>\n",
       "</table>\n",
       "</div>"
      ],
      "text/plain": [
       "  activities_range  no_of_activities\n",
       "0             2-10                41\n",
       "1            10-20                31\n",
       "2            20-30                28"
      ]
     },
     "execution_count": 111,
     "metadata": {},
     "output_type": "execute_result"
    }
   ],
   "source": [
    "per=pd.DataFrame(per)\n",
    "pre=pd.DataFrame()\n",
    "pre[\"activities_range\"]=[\"2-10\",\"10-20\",\"20-30\"]\n",
    "pre[\"no_of_activities\"]=([per[0:9].sum()[0],per[9:19].sum()[0],per[19:].sum()[0]])\n",
    "_10_percent[\"age\"].value_counts()"
   ]
  },
  {
   "cell_type": "code",
   "execution_count": null,
   "metadata": {},
   "outputs": [],
   "source": []
  }
 ],
 "metadata": {
  "kernelspec": {
   "display_name": "Python 3",
   "language": "python",
   "name": "python3"
  },
  "language_info": {
   "codemirror_mode": {
    "name": "ipython",
    "version": 3
   },
   "file_extension": ".py",
   "mimetype": "text/x-python",
   "name": "python",
   "nbconvert_exporter": "python",
   "pygments_lexer": "ipython3",
   "version": "3.7.3"
  }
 },
 "nbformat": 4,
 "nbformat_minor": 2
}
