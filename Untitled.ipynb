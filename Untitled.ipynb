{
 "cells": [
  {
   "cell_type": "code",
   "execution_count": 1,
   "metadata": {},
   "outputs": [],
   "source": [
    "import pandas as pd"
   ]
  },
  {
   "cell_type": "code",
   "execution_count": 2,
   "metadata": {},
   "outputs": [],
   "source": [
    "df=pd.read_csv(\"public-covid-19-cases-canada.csv\")"
   ]
  },
  {
   "cell_type": "code",
   "execution_count": 3,
   "metadata": {},
   "outputs": [
    {
     "data": {
      "text/plain": [
       "Index(['case_id', 'provincial_case_id', 'age', 'sex', 'health_region',\n",
       "       'province', 'country', 'date_report', 'report_week',\n",
       "       'has_travel_history', 'locally_acquired', 'case_source'],\n",
       "      dtype='object')"
      ]
     },
     "execution_count": 3,
     "metadata": {},
     "output_type": "execute_result"
    }
   ],
   "source": [
    "df.columns"
   ]
  },
  {
   "cell_type": "code",
   "execution_count": 4,
   "metadata": {},
   "outputs": [
    {
     "data": {
      "text/html": [
       "<div>\n",
       "<style scoped>\n",
       "    .dataframe tbody tr th:only-of-type {\n",
       "        vertical-align: middle;\n",
       "    }\n",
       "\n",
       "    .dataframe tbody tr th {\n",
       "        vertical-align: top;\n",
       "    }\n",
       "\n",
       "    .dataframe thead th {\n",
       "        text-align: right;\n",
       "    }\n",
       "</style>\n",
       "<table border=\"1\" class=\"dataframe\">\n",
       "  <thead>\n",
       "    <tr style=\"text-align: right;\">\n",
       "      <th></th>\n",
       "      <th>case_id</th>\n",
       "      <th>provincial_case_id</th>\n",
       "      <th>age</th>\n",
       "      <th>sex</th>\n",
       "      <th>health_region</th>\n",
       "      <th>province</th>\n",
       "      <th>country</th>\n",
       "      <th>date_report</th>\n",
       "      <th>report_week</th>\n",
       "      <th>has_travel_history</th>\n",
       "      <th>locally_acquired</th>\n",
       "      <th>case_source</th>\n",
       "    </tr>\n",
       "  </thead>\n",
       "  <tbody>\n",
       "    <tr>\n",
       "      <th>0</th>\n",
       "      <td>NaN</td>\n",
       "      <td>1</td>\n",
       "      <td>50-59</td>\n",
       "      <td>Male</td>\n",
       "      <td>Toronto</td>\n",
       "      <td>Ontario</td>\n",
       "      <td>Canada</td>\n",
       "      <td>2020-01-25</td>\n",
       "      <td>2020-01-19</td>\n",
       "      <td>t</td>\n",
       "      <td>NaN</td>\n",
       "      <td>(1) https://news.ontario.ca/mohltc/en/2020/01/...</td>\n",
       "    </tr>\n",
       "    <tr>\n",
       "      <th>1</th>\n",
       "      <td>NaN</td>\n",
       "      <td>2</td>\n",
       "      <td>50-59</td>\n",
       "      <td>Female</td>\n",
       "      <td>Toronto</td>\n",
       "      <td>Ontario</td>\n",
       "      <td>Canada</td>\n",
       "      <td>2020-01-27</td>\n",
       "      <td>2020-01-26</td>\n",
       "      <td>t</td>\n",
       "      <td>NaN</td>\n",
       "      <td>(1) https://news.ontario.ca/mohltc/en/2020/01/...</td>\n",
       "    </tr>\n",
       "    <tr>\n",
       "      <th>2</th>\n",
       "      <td>NaN</td>\n",
       "      <td>1</td>\n",
       "      <td>40-49</td>\n",
       "      <td>Male</td>\n",
       "      <td>Vancouver Coastal</td>\n",
       "      <td>BC</td>\n",
       "      <td>Canada</td>\n",
       "      <td>2020-01-28</td>\n",
       "      <td>2020-01-26</td>\n",
       "      <td>t</td>\n",
       "      <td>NaN</td>\n",
       "      <td>https://news.gov.bc.ca/releases/2020HLTH0015-0...</td>\n",
       "    </tr>\n",
       "    <tr>\n",
       "      <th>3</th>\n",
       "      <td>NaN</td>\n",
       "      <td>3</td>\n",
       "      <td>20-29</td>\n",
       "      <td>Female</td>\n",
       "      <td>Middlesex-London</td>\n",
       "      <td>Ontario</td>\n",
       "      <td>Canada</td>\n",
       "      <td>2020-01-31</td>\n",
       "      <td>2020-01-26</td>\n",
       "      <td>t</td>\n",
       "      <td>NaN</td>\n",
       "      <td>(1) https://news.ontario.ca/mohltc/en/2020/01/...</td>\n",
       "    </tr>\n",
       "    <tr>\n",
       "      <th>4</th>\n",
       "      <td>NaN</td>\n",
       "      <td>2</td>\n",
       "      <td>50-59</td>\n",
       "      <td>Female</td>\n",
       "      <td>Vancouver Coastal</td>\n",
       "      <td>BC</td>\n",
       "      <td>Canada</td>\n",
       "      <td>2020-02-04</td>\n",
       "      <td>2020-02-02</td>\n",
       "      <td>f</td>\n",
       "      <td>Close Contact</td>\n",
       "      <td>https://news.gov.bc.ca/releases/2020HLTH0023-0...</td>\n",
       "    </tr>\n",
       "  </tbody>\n",
       "</table>\n",
       "</div>"
      ],
      "text/plain": [
       "   case_id  provincial_case_id    age     sex      health_region province  \\\n",
       "0      NaN                   1  50-59    Male            Toronto  Ontario   \n",
       "1      NaN                   2  50-59  Female            Toronto  Ontario   \n",
       "2      NaN                   1  40-49    Male  Vancouver Coastal       BC   \n",
       "3      NaN                   3  20-29  Female   Middlesex-London  Ontario   \n",
       "4      NaN                   2  50-59  Female  Vancouver Coastal       BC   \n",
       "\n",
       "  country date_report report_week has_travel_history locally_acquired  \\\n",
       "0  Canada  2020-01-25  2020-01-19                  t              NaN   \n",
       "1  Canada  2020-01-27  2020-01-26                  t              NaN   \n",
       "2  Canada  2020-01-28  2020-01-26                  t              NaN   \n",
       "3  Canada  2020-01-31  2020-01-26                  t              NaN   \n",
       "4  Canada  2020-02-04  2020-02-02                  f    Close Contact   \n",
       "\n",
       "                                         case_source  \n",
       "0  (1) https://news.ontario.ca/mohltc/en/2020/01/...  \n",
       "1  (1) https://news.ontario.ca/mohltc/en/2020/01/...  \n",
       "2  https://news.gov.bc.ca/releases/2020HLTH0015-0...  \n",
       "3  (1) https://news.ontario.ca/mohltc/en/2020/01/...  \n",
       "4  https://news.gov.bc.ca/releases/2020HLTH0023-0...  "
      ]
     },
     "execution_count": 4,
     "metadata": {},
     "output_type": "execute_result"
    }
   ],
   "source": [
    "df.head()"
   ]
  },
  {
   "cell_type": "code",
   "execution_count": 13,
   "metadata": {},
   "outputs": [
    {
     "data": {
      "text/plain": [
       "array(['Male', 'Female', 'Not Reported'], dtype=object)"
      ]
     },
     "execution_count": 13,
     "metadata": {},
     "output_type": "execute_result"
    }
   ],
   "source": [
    "df[\"sex\"].unique()"
   ]
  },
  {
   "cell_type": "code",
   "execution_count": 17,
   "metadata": {},
   "outputs": [],
   "source": [
    "a=df.groupby(\"sex\")"
   ]
  },
  {
   "cell_type": "code",
   "execution_count": 18,
   "metadata": {},
   "outputs": [
    {
     "data": {
      "text/html": [
       "<div>\n",
       "<style scoped>\n",
       "    .dataframe tbody tr th:only-of-type {\n",
       "        vertical-align: middle;\n",
       "    }\n",
       "\n",
       "    .dataframe tbody tr th {\n",
       "        vertical-align: top;\n",
       "    }\n",
       "\n",
       "    .dataframe thead th {\n",
       "        text-align: right;\n",
       "    }\n",
       "</style>\n",
       "<table border=\"1\" class=\"dataframe\">\n",
       "  <thead>\n",
       "    <tr style=\"text-align: right;\">\n",
       "      <th></th>\n",
       "      <th>case_id</th>\n",
       "      <th>provincial_case_id</th>\n",
       "    </tr>\n",
       "    <tr>\n",
       "      <th>sex</th>\n",
       "      <th></th>\n",
       "      <th></th>\n",
       "    </tr>\n",
       "  </thead>\n",
       "  <tbody>\n",
       "    <tr>\n",
       "      <th>Female</th>\n",
       "      <td>0.0</td>\n",
       "      <td>2144129</td>\n",
       "    </tr>\n",
       "    <tr>\n",
       "      <th>Male</th>\n",
       "      <td>0.0</td>\n",
       "      <td>1786242</td>\n",
       "    </tr>\n",
       "    <tr>\n",
       "      <th>Not Reported</th>\n",
       "      <td>0.0</td>\n",
       "      <td>475687432</td>\n",
       "    </tr>\n",
       "  </tbody>\n",
       "</table>\n",
       "</div>"
      ],
      "text/plain": [
       "              case_id  provincial_case_id\n",
       "sex                                      \n",
       "Female            0.0             2144129\n",
       "Male              0.0             1786242\n",
       "Not Reported      0.0           475687432"
      ]
     },
     "execution_count": 18,
     "metadata": {},
     "output_type": "execute_result"
    }
   ],
   "source": [
    "a.sum()"
   ]
  },
  {
   "cell_type": "code",
   "execution_count": null,
   "metadata": {},
   "outputs": [],
   "source": [
    "b=df.groupby()"
   ]
  },
  {
   "cell_type": "code",
   "execution_count": 7,
   "metadata": {},
   "outputs": [],
   "source": [
    "import numpy as np\n",
    "import pandas as pd"
   ]
  },
  {
   "cell_type": "code",
   "execution_count": 3,
   "metadata": {},
   "outputs": [],
   "source": [
    "df1=pd.read_csv(\"public-covid-19-cases-canada.csv\")"
   ]
  },
  {
   "cell_type": "code",
   "execution_count": 4,
   "metadata": {},
   "outputs": [
    {
     "data": {
      "text/plain": [
       "50982"
      ]
     },
     "execution_count": 4,
     "metadata": {},
     "output_type": "execute_result"
    }
   ],
   "source": [
    "len(df1)"
   ]
  },
  {
   "cell_type": "code",
   "execution_count": 5,
   "metadata": {},
   "outputs": [
    {
     "data": {
      "text/plain": [
       "(50982, 12)"
      ]
     },
     "execution_count": 5,
     "metadata": {},
     "output_type": "execute_result"
    }
   ],
   "source": [
    "df1.shape"
   ]
  },
  {
   "cell_type": "code",
   "execution_count": 6,
   "metadata": {},
   "outputs": [
    {
     "data": {
      "text/plain": [
       "case_id                   0\n",
       "provincial_case_id    50982\n",
       "age                   50982\n",
       "sex                   50982\n",
       "health_region         50982\n",
       "province              50982\n",
       "country               50982\n",
       "date_report           50982\n",
       "report_week           50982\n",
       "has_travel_history     1150\n",
       "locally_acquired        574\n",
       "case_source           50982\n",
       "dtype: int64"
      ]
     },
     "execution_count": 6,
     "metadata": {},
     "output_type": "execute_result"
    }
   ],
   "source": [
    "df1.count()"
   ]
  },
  {
   "cell_type": "code",
   "execution_count": 8,
   "metadata": {},
   "outputs": [
    {
     "data": {
      "text/html": [
       "<div>\n",
       "<style scoped>\n",
       "    .dataframe tbody tr th:only-of-type {\n",
       "        vertical-align: middle;\n",
       "    }\n",
       "\n",
       "    .dataframe tbody tr th {\n",
       "        vertical-align: top;\n",
       "    }\n",
       "\n",
       "    .dataframe thead th {\n",
       "        text-align: right;\n",
       "    }\n",
       "</style>\n",
       "<table border=\"1\" class=\"dataframe\">\n",
       "  <thead>\n",
       "    <tr style=\"text-align: right;\">\n",
       "      <th></th>\n",
       "      <th>case_id</th>\n",
       "      <th>provincial_case_id</th>\n",
       "      <th>age</th>\n",
       "      <th>sex</th>\n",
       "      <th>health_region</th>\n",
       "      <th>province</th>\n",
       "      <th>country</th>\n",
       "      <th>date_report</th>\n",
       "      <th>report_week</th>\n",
       "      <th>has_travel_history</th>\n",
       "      <th>locally_acquired</th>\n",
       "      <th>case_source</th>\n",
       "    </tr>\n",
       "  </thead>\n",
       "  <tbody>\n",
       "    <tr>\n",
       "      <th>0</th>\n",
       "      <td>NaN</td>\n",
       "      <td>1</td>\n",
       "      <td>50-59</td>\n",
       "      <td>Male</td>\n",
       "      <td>Toronto</td>\n",
       "      <td>Ontario</td>\n",
       "      <td>Canada</td>\n",
       "      <td>2020-01-25</td>\n",
       "      <td>2020-01-19</td>\n",
       "      <td>t</td>\n",
       "      <td>NaN</td>\n",
       "      <td>(1) https://news.ontario.ca/mohltc/en/2020/01/...</td>\n",
       "    </tr>\n",
       "    <tr>\n",
       "      <th>1</th>\n",
       "      <td>NaN</td>\n",
       "      <td>2</td>\n",
       "      <td>50-59</td>\n",
       "      <td>Female</td>\n",
       "      <td>Toronto</td>\n",
       "      <td>Ontario</td>\n",
       "      <td>Canada</td>\n",
       "      <td>2020-01-27</td>\n",
       "      <td>2020-01-26</td>\n",
       "      <td>t</td>\n",
       "      <td>NaN</td>\n",
       "      <td>(1) https://news.ontario.ca/mohltc/en/2020/01/...</td>\n",
       "    </tr>\n",
       "    <tr>\n",
       "      <th>2</th>\n",
       "      <td>NaN</td>\n",
       "      <td>1</td>\n",
       "      <td>40-49</td>\n",
       "      <td>Male</td>\n",
       "      <td>Vancouver Coastal</td>\n",
       "      <td>BC</td>\n",
       "      <td>Canada</td>\n",
       "      <td>2020-01-28</td>\n",
       "      <td>2020-01-26</td>\n",
       "      <td>t</td>\n",
       "      <td>NaN</td>\n",
       "      <td>https://news.gov.bc.ca/releases/2020HLTH0015-0...</td>\n",
       "    </tr>\n",
       "    <tr>\n",
       "      <th>3</th>\n",
       "      <td>NaN</td>\n",
       "      <td>3</td>\n",
       "      <td>20-29</td>\n",
       "      <td>Female</td>\n",
       "      <td>Middlesex-London</td>\n",
       "      <td>Ontario</td>\n",
       "      <td>Canada</td>\n",
       "      <td>2020-01-31</td>\n",
       "      <td>2020-01-26</td>\n",
       "      <td>t</td>\n",
       "      <td>NaN</td>\n",
       "      <td>(1) https://news.ontario.ca/mohltc/en/2020/01/...</td>\n",
       "    </tr>\n",
       "    <tr>\n",
       "      <th>4</th>\n",
       "      <td>NaN</td>\n",
       "      <td>2</td>\n",
       "      <td>50-59</td>\n",
       "      <td>Female</td>\n",
       "      <td>Vancouver Coastal</td>\n",
       "      <td>BC</td>\n",
       "      <td>Canada</td>\n",
       "      <td>2020-02-04</td>\n",
       "      <td>2020-02-02</td>\n",
       "      <td>f</td>\n",
       "      <td>Close Contact</td>\n",
       "      <td>https://news.gov.bc.ca/releases/2020HLTH0023-0...</td>\n",
       "    </tr>\n",
       "  </tbody>\n",
       "</table>\n",
       "</div>"
      ],
      "text/plain": [
       "   case_id  provincial_case_id    age     sex      health_region province  \\\n",
       "0      NaN                   1  50-59    Male            Toronto  Ontario   \n",
       "1      NaN                   2  50-59  Female            Toronto  Ontario   \n",
       "2      NaN                   1  40-49    Male  Vancouver Coastal       BC   \n",
       "3      NaN                   3  20-29  Female   Middlesex-London  Ontario   \n",
       "4      NaN                   2  50-59  Female  Vancouver Coastal       BC   \n",
       "\n",
       "  country date_report report_week has_travel_history locally_acquired  \\\n",
       "0  Canada  2020-01-25  2020-01-19                  t              NaN   \n",
       "1  Canada  2020-01-27  2020-01-26                  t              NaN   \n",
       "2  Canada  2020-01-28  2020-01-26                  t              NaN   \n",
       "3  Canada  2020-01-31  2020-01-26                  t              NaN   \n",
       "4  Canada  2020-02-04  2020-02-02                  f    Close Contact   \n",
       "\n",
       "                                         case_source  \n",
       "0  (1) https://news.ontario.ca/mohltc/en/2020/01/...  \n",
       "1  (1) https://news.ontario.ca/mohltc/en/2020/01/...  \n",
       "2  https://news.gov.bc.ca/releases/2020HLTH0015-0...  \n",
       "3  (1) https://news.ontario.ca/mohltc/en/2020/01/...  \n",
       "4  https://news.gov.bc.ca/releases/2020HLTH0023-0...  "
      ]
     },
     "execution_count": 8,
     "metadata": {},
     "output_type": "execute_result"
    }
   ],
   "source": [
    "df1.head()"
   ]
  },
  {
   "cell_type": "code",
   "execution_count": 9,
   "metadata": {},
   "outputs": [
    {
     "data": {
      "text/plain": [
       "Not Reported    49521\n",
       "50-59             288\n",
       "60-69             255\n",
       "30-39             217\n",
       "40-49             213\n",
       "20-29             196\n",
       "70-79             135\n",
       "80-89              63\n",
       "90-99              37\n",
       "<20                24\n",
       "10-19              12\n",
       "<10                11\n",
       "<18                 6\n",
       "2                   1\n",
       "61                  1\n",
       "50                  1\n",
       "<1                  1\n",
       "Name: age, dtype: int64"
      ]
     },
     "execution_count": 9,
     "metadata": {},
     "output_type": "execute_result"
    }
   ],
   "source": [
    "df1[\"age\"].value_counts()"
   ]
  },
  {
   "cell_type": "code",
   "execution_count": 10,
   "metadata": {},
   "outputs": [
    {
     "data": {
      "text/plain": [
       "Not Reported    49658\n",
       "Female            686\n",
       "Male              638\n",
       "Name: sex, dtype: int64"
      ]
     },
     "execution_count": 10,
     "metadata": {},
     "output_type": "execute_result"
    }
   ],
   "source": [
    "df1[\"sex\"].value_counts()"
   ]
  },
  {
   "cell_type": "code",
   "execution_count": 13,
   "metadata": {},
   "outputs": [
    {
     "data": {
      "text/plain": [
       "Montréal                         12487\n",
       "Toronto                           5128\n",
       "Calgary                           3366\n",
       "Montérégie                        2973\n",
       "Laval                             2919\n",
       "Peel                              2358\n",
       "Lanaudière                        1983\n",
       "York                              1458\n",
       "Ottawa                            1221\n",
       "Laurentides                       1183\n",
       "Mauricie                          1176\n",
       "Durham                             923\n",
       "Fraser                             918\n",
       "Estrie                             826\n",
       "Vancouver Coastal                  803\n",
       "Capitale-Nationale                 789\n",
       "Waterloo                           709\n",
       "South                              700\n",
       "Not Reported                       589\n",
       "Windsor-Essex                      581\n",
       "Edmonton                           486\n",
       "Niagara                            472\n",
       "Halton                             443\n",
       "Hamilton                           421\n",
       "Middlesex-London                   384\n",
       "Chaudière-Appalaches               382\n",
       "Zone 4 - Central                   343\n",
       "Eastern                            331\n",
       "Leeds Grenville and Lanark         300\n",
       "Saguenay                           273\n",
       "                                 ...  \n",
       "Zone 3 (Fredericton area)           48\n",
       "Far North                           46\n",
       "Huron Perth                         44\n",
       "Hastings Prince Edward              39\n",
       "Bas-Saint-Laurent                   34\n",
       "Southern Health                     31\n",
       "Prince Edward Island                27\n",
       "Zone 2 (Saint John area)            26\n",
       "Zone 1 (Moncton area)               22\n",
       "Interlake-Eastern                   19\n",
       "Northwestern                        16\n",
       "Nunavik                             16\n",
       "Renfrew                             15\n",
       "Prairie Mountain                    14\n",
       "North Bay Parry Sound               14\n",
       "Algoma                              13\n",
       "Zone 5 (Campbellton area)           12\n",
       "Zone 3 - Eastern                    12\n",
       "Timiskaming                         12\n",
       "Yukon                               11\n",
       "Zone 1 - Western                    10\n",
       "Terres-Cries-de-la-Baie-James        8\n",
       "Nord-du-Québec                       7\n",
       "Zone 4 (Edmundston area)             7\n",
       "Labrador-Grenfell                    6\n",
       "NWT                                  5\n",
       "Western                              4\n",
       "Zone 2 - Northern                    4\n",
       "Zone 7 (Miramichi area)              2\n",
       "Zone 6 (Bathurst area)               1\n",
       "Name: health_region, Length: 86, dtype: int64"
      ]
     },
     "execution_count": 13,
     "metadata": {},
     "output_type": "execute_result"
    }
   ],
   "source": [
    "df1[\"health_region\"].value_counts()"
   ]
  },
  {
   "cell_type": "code",
   "execution_count": 14,
   "metadata": {},
   "outputs": [
    {
     "data": {
      "text/plain": [
       "Quebec           25757\n",
       "Ontario          16337\n",
       "Alberta           4850\n",
       "BC                2053\n",
       "Nova Scotia        915\n",
       "Saskatchewan       366\n",
       "Manitoba           272\n",
       "NL                 258\n",
       "New Brunswick      118\n",
       "PEI                 27\n",
       "Repatriated         13\n",
       "Yukon               11\n",
       "NWT                  5\n",
       "Name: province, dtype: int64"
      ]
     },
     "execution_count": 14,
     "metadata": {},
     "output_type": "execute_result"
    }
   ],
   "source": [
    "df1[\"province\"].value_counts()"
   ]
  },
  {
   "cell_type": "code",
   "execution_count": 24,
   "metadata": {},
   "outputs": [],
   "source": [
    "cases_in_a_day=pd.DataFrame(df1[\"date_report\"].value_counts())\n",
    "cases_in_a_day=cases_in_a_day.sort_index()"
   ]
  },
  {
   "cell_type": "code",
   "execution_count": 25,
   "metadata": {},
   "outputs": [],
   "source": [
    "import matplotlib.pyplot as plt"
   ]
  },
  {
   "cell_type": "code",
   "execution_count": 30,
   "metadata": {},
   "outputs": [
    {
     "data": {
      "image/png": "[encoded data removed]",
      "text/plain": [
       "<Figure size 432x288 with 1 Axes>"
      ]
     },
     "metadata": {
      "needs_background": "light"
     },
     "output_type": "display_data"
    }
   ],
   "source": [
    "plt.plot(cases_in_a_day)\n",
    "plt.show()"
   ]
  },
  {
   "cell_type": "code",
   "execution_count": null,
   "metadata": {},
   "outputs": [],
   "source": []
  }
 ],
 "metadata": {
  "kernelspec": {
   "display_name": "Python 3",
   "language": "python",
   "name": "python3"
  },
  "language_info": {
   "codemirror_mode": {
    "name": "ipython",
    "version": 3
   },
   "file_extension": ".py",
   "mimetype": "text/x-python",
   "name": "python",
   "nbconvert_exporter": "python",
   "pygments_lexer": "ipython3",
   "version": "3.7.3"
  }
 },
 "nbformat": 4,
 "nbformat_minor": 2
}
